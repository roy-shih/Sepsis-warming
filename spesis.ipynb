{
 "cells": [
  {
   "cell_type": "code",
   "execution_count": 1,
   "id": "a6c31b63",
   "metadata": {},
   "outputs": [
    {
     "name": "stdout",
     "output_type": "stream",
     "text": [
      "Hello, TensorFlow!\r\n"
     ]
    }
   ],
   "source": [
    "import tensorflow as tf\n",
    "msg = tf.constant('Hello, TensorFlow!')\n",
    "tf.print(msg)"
   ]
  },
  {
   "cell_type": "code",
   "execution_count": 2,
   "id": "7cb7eda0",
   "metadata": {},
   "outputs": [],
   "source": [
    "import os\n",
    "import numpy as np\n",
    "import pandas as pd\n",
    "from sklearn.model_selection import train_test_split        "
   ]
  },
  {
   "cell_type": "code",
   "execution_count": 3,
   "id": "fce1543a",
   "metadata": {},
   "outputs": [
    {
     "name": "stdout",
     "output_type": "stream",
     "text": [
      "GPU is avaliable\n"
     ]
    }
   ],
   "source": [
    "import random\n",
    "import matplotlib.pyplot as plt\n",
    "from PIL import Image\n",
    "from PIL import ImageEnhance\n",
    "from sklearn.model_selection import train_test_split\n",
    "import tensorflow as tf\n",
    "from tensorflow import keras\n",
    "from keras.utils import np_utils\n",
    "from keras.models import Sequential\n",
    "from keras.layers import Dense, Conv2D, Flatten, Dropout, MaxPooling2D\n",
    "from tensorflow.keras.optimizers import Adam, SGD\n",
    "from keras.callbacks import ReduceLROnPlateau\n",
    "from keras.preprocessing.image import ImageDataGenerator\n",
    "\n",
    "print(\"GPU is\",\"avaliable\" if tf.config.list_physical_devices('GPU') else \"NOT AVAILABLE\")"
   ]
  },
  {
   "cell_type": "code",
   "execution_count": 4,
   "id": "408526cb",
   "metadata": {},
   "outputs": [
    {
     "name": "stdout",
     "output_type": "stream",
     "text": [
      "tensorflow version: 2.5.0\n",
      "GPU is avaliable\n"
     ]
    }
   ],
   "source": [
    "import tensorflow as tf\n",
    "print(\"tensorflow version:\",tf.__version__)\n",
    "print(\"GPU is\",\"avaliable\" if tf.config.list_physical_devices('GPU') else \"NOT AVAILABLE\")"
   ]
  },
  {
   "cell_type": "code",
   "execution_count": 5,
   "id": "5168367b",
   "metadata": {},
   "outputs": [
    {
     "name": "stdout",
     "output_type": "stream",
     "text": [
      "[[22 28]\n",
      " [49 64]]\r\n"
     ]
    }
   ],
   "source": [
    "# Creates a graph.\n",
    "a = tf.constant([1.0, 2.0, 3.0, 4.0, 5.0, 6.0], shape=[2, 3], name='a')\n",
    "b = tf.constant([1.0, 2.0, 3.0, 4.0, 5.0, 6.0], shape=[3, 2], name='b')\n",
    "c = tf.matmul(a, b)\n",
    "# Creates a session with log_device_placement set to True.\n",
    "# Runs the op.\n",
    "tf.print(c)"
   ]
  },
  {
   "cell_type": "code",
   "execution_count": 6,
   "id": "43bedb4a",
   "metadata": {},
   "outputs": [
    {
     "data": {
      "text/plain": [
       "[PhysicalDevice(name='/physical_device:GPU:0', device_type='GPU')]"
      ]
     },
     "execution_count": 6,
     "metadata": {},
     "output_type": "execute_result"
    }
   ],
   "source": [
    "tf.config.list_physical_devices('GPU')"
   ]
  },
  {
   "cell_type": "code",
   "execution_count": 7,
   "id": "01885caa",
   "metadata": {},
   "outputs": [
    {
     "name": "stdout",
     "output_type": "stream",
     "text": [
      "GPU is avaliable\n"
     ]
    }
   ],
   "source": [
    "import os\n",
    "import numpy as np\n",
    "import pandas as pd\n",
    "from sklearn.model_selection import train_test_split        \n",
    "import time\n",
    "import random\n",
    "import matplotlib.pyplot as plt\n",
    "from PIL import Image\n",
    "from PIL import ImageEnhance\n",
    "import tensorflow as tf\n",
    "from tensorflow import keras\n",
    "from keras.utils import np_utils\n",
    "from keras.models import Sequential\n",
    "from keras.layers import Dense, Conv2D, Flatten, Dropout, MaxPooling2D\n",
    "from tensorflow.keras.optimizers import Adam, SGD\n",
    "from keras.callbacks import ReduceLROnPlateau\n",
    "from keras.preprocessing.image import ImageDataGenerator\n",
    "from numpy.core.numeric import False_ \n",
    "\n",
    "# os.chdir('/kaggle/input/testing')\n",
    "print(\"GPU is\",\"avaliable\" if tf.config.list_physical_devices('GPU') else \"NOT AVAILABLE\")"
   ]
  },
  {
   "cell_type": "code",
   "execution_count": 8,
   "id": "b5cab838",
   "metadata": {},
   "outputs": [],
   "source": [
    "# %% [markdown]\n",
    "# # Data pre-processing\n",
    "#parameter about input feature\n",
    "item = [\"HR\", \"O2Sat\", \"Temp\", \"SBP\", \"MAP\", \"Resp\"] \n",
    "bound = [[30, 200], \n",
    "         [80, 100], \n",
    "         [35, 39], \n",
    "         [60, 180], \n",
    "         [60, 130], \n",
    "         [10, 35] \n",
    "        ] \n",
    "lower_bound=0 \n",
    "upper_bound=1\n",
    "\n",
    "#parameter about how many window we want to cut in one person data\n",
    "random_times=10\n",
    "\n",
    "#neural network set\n",
    "tmpData = [] \n",
    "tmpLabel = []\n"
   ]
  },
  {
   "cell_type": "code",
   "execution_count": 9,
   "id": "cb2d2d3e",
   "metadata": {},
   "outputs": [],
   "source": [
    "# %% [code] {\"jupyter\":{\"outputs_hidden\":false},\"execution\":{\"iopub.status.busy\":\"2021-06-27T14:51:17.106599Z\",\"iopub.execute_input\":\"2021-06-27T14:51:17.107155Z\",\"iopub.status.idle\":\"2021-06-27T14:51:17.113786Z\",\"shell.execute_reply.started\":\"2021-06-27T14:51:17.107087Z\",\"shell.execute_reply\":\"2021-06-27T14:51:17.113087Z\"}}\n",
    "def rule(_label,check_begin,check_end,_window_size,_check_size):\n",
    "    spesis=np.nanmean(_label)\n",
    "    a=0\n",
    "    if _label[0:_window_size-1].all()==0:\n",
    "        check=dataframe[\"SepsisLabel\"].iloc[check_begin:check_end].to_numpy()\n",
    "        if np.nanmean(check)==0:\n",
    "            # no sepsis : No sepsis across (window_size) hours period and next (check_size) hour\n",
    "            outlabel= 0\n",
    "        else:\n",
    "            # pre-sepsis 1 : No sepsis across (window_size) hours period & sepsis in (window_size+1)~(window_size+check_size) hour\n",
    "            outlabel=1\n",
    "    elif np.nanmean(_label[0:5])==0 and _label[_window_size-1]==1:\n",
    "#         pre-sepsis 2 : No sepsis across (window_size/2) hours period & sepsis in number (window_size) hour\n",
    "        outlabel = 1\n",
    "    if spesis>=(1/_window_size):\n",
    "        # spesis : first hour and last hour are both spesis & total spesis time > 5\n",
    "        outlabel = 2\n",
    "    return outlabel\n",
    "\n",
    "# %% [code] {\"jupyter\":{\"outputs_hidden\":false},\"execution\":{\"iopub.status.busy\":\"2021-06-27T14:51:17.118410Z\",\"iopub.execute_input\":\"2021-06-27T14:51:17.118887Z\",\"iopub.status.idle\":\"2021-06-27T14:51:17.132342Z\",\"shell.execute_reply.started\":\"2021-06-27T14:51:17.118836Z\",\"shell.execute_reply\":\"2021-06-27T14:51:17.131514Z\"}}\n",
    "#  window               #check      #label\n",
    "# [0 0 0 0 0 0 0 0 0 0] [0 0 0 0 0] 0\n",
    "# [0 0 0 0 0 0 0 0 0 0] [0 0 0 0 0] 0\n",
    "# [0 0 0 0 0 0 0 0 0 0] [0 0 0 0 0] 0\n",
    "# [0 0 0 0 0 0 0 0 0 0] [0 0 0 0 0] 0\n",
    "# [0 0 0 0 0 0 0 0 0 0] [0 0 0 0 0] 0\n",
    "# [0 0 0 0 0 0 0 0 0 0] [0 0 0 0 0] 0\n",
    "# [0 0 0 0 0 0 0 0 0 0] [0 0 0 0 1] 1\n",
    "# [0 0 0 0 0 0 0 0 0 0] [0 0 0 1 1] 1\n",
    "# [0 0 0 0 0 0 0 0 0 0] [0 0 1 1 1] 1\n",
    "# [0 0 0 0 0 0 0 0 0 0] [0 1 1 1 1] 1\n",
    "# [0 0 0 0 0 0 0 0 0 0] [1 1 1 1 1] 1\n",
    "# [0 0 0 0 0 0 0 0 0  \n",
    "# [0 0 0 0 0 1 1 1 1 1] [1 1 1 1 1] 2\n",
    "# [0 0 0 0 1 1 1 1 1 1] [1 1 1 1] 2\n",
    "# [0 0 0 1 1 1 1 1 1 1] [1 1 1] 2\n",
    "# [0 0 1 1 1 1 1 1 1 1] [1 1] 2\n",
    "# [0 1 1 1 1 1 1 1 1 1] [1] 2"
   ]
  },
  {
   "cell_type": "code",
   "execution_count": 10,
   "id": "a2b36c1b",
   "metadata": {},
   "outputs": [
    {
     "name": "stderr",
     "output_type": "stream",
     "text": [
      "C:\\Users\\andy1\\anaconda3\\envs\\tensorflow-gpu\\lib\\site-packages\\numpy\\core\\fromnumeric.py:3419: RuntimeWarning: Mean of empty slice.\n",
      "  return _methods._mean(a, axis=axis, dtype=dtype,\n",
      "C:\\Users\\andy1\\anaconda3\\envs\\tensorflow-gpu\\lib\\site-packages\\numpy\\core\\_methods.py:188: RuntimeWarning: invalid value encountered in double_scalars\n",
      "  ret = ret.dtype.type(ret / rcount)\n"
     ]
    },
    {
     "name": "stdout",
     "output_type": "stream",
     "text": [
      "\n",
      "Data processing complete in 347.25672793388367 seconds.\n",
      "\n"
     ]
    }
   ],
   "source": [
    "# %% [code] {\"jupyter\":{\"outputs_hidden\":false},\"execution\":{\"iopub.status.busy\":\"2021-06-27T14:51:17.189751Z\",\"iopub.execute_input\":\"2021-06-27T14:51:17.190388Z\",\"iopub.status.idle\":\"2021-06-27T14:53:59.332797Z\",\"shell.execute_reply.started\":\"2021-06-27T14:51:17.190334Z\",\"shell.execute_reply\":\"2021-06-27T14:53:59.332019Z\"}}\n",
    "tStart = time.time()\n",
    "for file in range(1, 10000):\n",
    "    #Read data\n",
    "    #training_set data filename\n",
    "    num = \"%06d\" % file\n",
    "    filename = \"p\"+num\n",
    "    ##training_setB data filename\n",
    "    #num=100000+i\n",
    "    #filename = \"p\"+str(num)\n",
    "    try:\n",
    "        dataframe = pd.read_csv(\"./training/\"+filename+\".psv\", skiprows=0, sep='|') \n",
    "        window_size=10\n",
    "        check_size=5\n",
    "        #Random cut method\n",
    "        index=0\n",
    "        for sample_time in range(random_times):\n",
    "            leng = len(dataframe)-window_size\n",
    "            up = random.randint(1, leng)\n",
    "            \n",
    "            #setup label \n",
    "            label = dataframe[\"SepsisLabel\"].iloc[up:up+window_size].to_numpy()   \n",
    "            a=rule(label,up+window_size,up+window_size+check_size,window_size,check_size)\n",
    "            if random.randint(0,20)<=10:\n",
    "                continue\n",
    "            classify=rule(label,sample_time+window_size,sample_time+window_size+check_size,window_size,check_size)\n",
    "            tmpLabel.append(classify)\n",
    "                    \n",
    "            #fill nan value and make dataframe(actually is numpy array)\n",
    "            data= np.empty((window_size))\n",
    "            for items in range(len(item)):\n",
    "                dataFromDF = dataframe[item[items]].drop(index=0).fillna(method='ffill').fillna(method='bfill')\n",
    "                dataFromDF = dataFromDF.iloc[up-1:up+window_size-1] #??????\n",
    "                dataFromDF = np.array((dataFromDF - bound[items][lower_bound])/(bound[items][upper_bound] - bound[items][lower_bound]))\n",
    "                if items==0:\n",
    "                    data=dataFromDF\n",
    "                else:\n",
    "                    data=np.vstack([data,dataFromDF])\n",
    "            \n",
    "            #Change to graph and enhance it, than save feature graph to training set\n",
    "            data *= 255  # 变换为0-255的灰度值\n",
    "            im = Image.fromarray(data.T).convert('L') # 这样才能转为灰度图，如果是彩色图则改L为‘RGB’\n",
    "            im = ImageEnhance.Contrast(im).enhance(5.5).resize((128,128))#ImageEnhance.Contrast(im).enhance(0)\n",
    "            savepath=\"./out/\"+str(classify)+\"/\"+filename+str(index)+\".jpg\"\n",
    "            index+=1\n",
    "            im.save(savepath)\n",
    "#             print(savepath)\n",
    "            tmpData.append(np.array(im))\n",
    "            \n",
    "        # from buttom to half data len \n",
    "        # because number of label 0 is about 90% of all data when random cut method  \n",
    "#         print(int(len(dataframe)/2),len(dataframe))\n",
    "        begin=int(len(dataframe)/2)\n",
    "        end=len(dataframe)\n",
    "        for sample_time in range(int(len(dataframe)/2)-window_size,len(dataframe)-window_size):\n",
    "            if sample_time>0:\n",
    "                #setup label (1,2)\n",
    "                label = dataframe[\"SepsisLabel\"].iloc[sample_time:sample_time+window_size].to_numpy()   \n",
    "                if np.nanmean(label)>0 :\n",
    "                    classify=rule(label,sample_time+window_size,sample_time+window_size+check_size,window_size,check_size)\n",
    "                    tmpLabel.append(classify)\n",
    "                    #fill nan value and make dataframe(actually is numpy array)\n",
    "                    data= np.empty((window_size))\n",
    "                    for items in range(len(item)):\n",
    "                        dataFromDF = dataframe[item[items]].drop(index=0).fillna(method='ffill').fillna(method='bfill')\n",
    "                        dataFromDF = dataFromDF.iloc[sample_time:sample_time+window_size]\n",
    "                        dataFromDF = np.array((dataFromDF - bound[items][lower_bound])/(bound[items][upper_bound] - bound[items][lower_bound]))\n",
    "                        if items==0:\n",
    "                            data=dataFromDF\n",
    "                        else:\n",
    "                            data=np.vstack([data,dataFromDF])\n",
    "            \n",
    "                    #Change to graph and enhance it, than save feature graph to training set\n",
    "                    data *= 255  # 变换为0-255的灰度值\n",
    "                    im = Image.fromarray(data.T).convert('L') # 这样才能转为灰度图，如果是彩色图则改L为‘RGB’\n",
    "                    im = ImageEnhance.Contrast(im).enhance(5.5).resize((128,128))#ImageEnhance.Contrast(im).enhance(0)\n",
    "                    savepath=\"./out/\"+str(classify)+\"/\"+filename+str(index)+\".jpg\"\n",
    "                    index+=1\n",
    "#                     print(savepath)\n",
    "                    im.save(savepath)\n",
    "                    tmpData.append(np.array(im))\n",
    "    except:\n",
    "        continue\n",
    "tEnd = time.time()\n",
    "\n",
    "print(f\"\\nData processing complete in {tEnd - tStart} seconds.\\n\")"
   ]
  },
  {
   "cell_type": "code",
   "execution_count": 11,
   "id": "0957b09b",
   "metadata": {},
   "outputs": [
    {
     "name": "stdout",
     "output_type": "stream",
     "text": [
      "0\n"
     ]
    },
    {
     "data": {
      "image/png": "[encoded data removed]",
      "text/plain": [
       "<Figure size 432x288 with 1 Axes>"
      ]
     },
     "metadata": {
      "needs_background": "light"
     },
     "output_type": "display_data"
    }
   ],
   "source": [
    "for num in range(len(tmpLabel)):\n",
    "    if tmpLabel[num]==0:\n",
    "        plt.imshow(tmpData[num], cmap='gray')\n",
    "        print(tmpLabel[num])\n",
    "        break"
   ]
  },
  {
   "cell_type": "code",
   "execution_count": 12,
   "id": "7c628b96",
   "metadata": {},
   "outputs": [
    {
     "name": "stdout",
     "output_type": "stream",
     "text": [
      "1\n"
     ]
    },
    {
     "data": {
      "image/png": "[encoded data removed]",
      "text/plain": [
       "<Figure size 432x288 with 1 Axes>"
      ]
     },
     "metadata": {
      "needs_background": "light"
     },
     "output_type": "display_data"
    }
   ],
   "source": [
    "# how feature graph look like\n",
    "for num in range(len(tmpLabel)):\n",
    "    if tmpLabel[num]==1:\n",
    "        plt.imshow(tmpData[num], cmap='gray')\n",
    "        print(tmpLabel[num])\n",
    "        break"
   ]
  },
  {
   "cell_type": "code",
   "execution_count": 13,
   "id": "34fe871e",
   "metadata": {},
   "outputs": [
    {
     "name": "stdout",
     "output_type": "stream",
     "text": [
      "2\n"
     ]
    },
    {
     "data": {
      "image/png": "[encoded data removed]",
      "text/plain": [
       "<Figure size 432x288 with 1 Axes>"
      ]
     },
     "metadata": {
      "needs_background": "light"
     },
     "output_type": "display_data"
    }
   ],
   "source": [
    "# how feature graph look like\n",
    "for num in range(len(tmpLabel)):\n",
    "    if tmpLabel[num]==2:\n",
    "        plt.imshow(tmpData[num], cmap='gray')\n",
    "        print(tmpLabel[num])\n",
    "        break"
   ]
  },
  {
   "cell_type": "code",
   "execution_count": 14,
   "id": "138ff7bb",
   "metadata": {},
   "outputs": [
    {
     "name": "stdout",
     "output_type": "stream",
     "text": [
      "43056 -> 0.8257292445774121\n",
      "1687 -> 0.03235333601825748\n",
      "7400 -> 0.1419174194043304\n"
     ]
    }
   ],
   "source": [
    "#Number of each category\n",
    "numofclass0=0\n",
    "numofclass1=0\n",
    "numofclass2=0\n",
    "for num in range(len(tmpLabel)):\n",
    "    if tmpLabel[num]==0:\n",
    "        numofclass0+=1\n",
    "    elif tmpLabel[num]==1:\n",
    "        numofclass1+=1\n",
    "    elif tmpLabel[num]==2:\n",
    "        numofclass2+=1\n",
    "print(numofclass0,\"->\",numofclass0/len(tmpLabel))\n",
    "print(numofclass1,\"->\",numofclass1/len(tmpLabel))\n",
    "print(numofclass2,\"->\",numofclass2/len(tmpLabel))"
   ]
  },
  {
   "cell_type": "code",
   "execution_count": 15,
   "id": "6932a960",
   "metadata": {},
   "outputs": [
    {
     "name": "stdout",
     "output_type": "stream",
     "text": [
      "Shuffle complete.\n",
      "Transfer complete.\n",
      "Split data complete.\n",
      "Reshape data complete.\n",
      "\n",
      "Prepare training data complete in 0.8565618991851807 seconds.\n",
      "\n"
     ]
    }
   ],
   "source": [
    "tStart = time.time()\n",
    "\n",
    "# shuffle, seed = 6\n",
    "random.Random(6).shuffle(tmpData)\n",
    "random.Random(6).shuffle(tmpLabel)\n",
    "\n",
    "print(\"Shuffle complete.\")\n",
    "\n",
    "tmpData = np.array(tmpData)\n",
    "tmpLabel = np.array(tmpLabel)\n",
    "\n",
    "print(\"Transfer complete.\")\n",
    "\n",
    "trainingData, validData, trainingLabel, validLabel = train_test_split(tmpData, tmpLabel, test_size=0.125)\n",
    "\n",
    "print(\"Split data complete.\")\n",
    "    \n",
    "trainingData = trainingData.reshape(len(trainingData), 128,128, 1)\n",
    "trainingLabel = trainingLabel.reshape(len(trainingLabel), 1)\n",
    "# print(trainingData)\n",
    "validData = validData.reshape(len(validData), 128,128, 1)\n",
    "validLabel = validLabel.reshape(len(validLabel), 1)\n",
    "\n",
    "print(\"Reshape data complete.\")\n",
    "\n",
    "trainingLabelOneHot = np_utils.to_categorical(trainingLabel) # One-Hot encoding label\n",
    "validLabelOneHot = np_utils.to_categorical(validLabel)\n",
    "\n",
    "tEnd = time.time()\n",
    "\n",
    "print(f\"\\nPrepare training data complete in {tEnd - tStart} seconds.\\n\")"
   ]
  },
  {
   "cell_type": "code",
   "execution_count": 16,
   "id": "67bfe8cf",
   "metadata": {
    "scrolled": false
   },
   "outputs": [
    {
     "name": "stdout",
     "output_type": "stream",
     "text": [
      "Model: \"sequential\"\n",
      "_________________________________________________________________\n",
      "Layer (type)                 Output Shape              Param #   \n",
      "=================================================================\n",
      "conv2d (Conv2D)              (None, 120, 120, 36)      2952      \n",
      "_________________________________________________________________\n",
      "max_pooling2d (MaxPooling2D) (None, 60, 60, 36)        0         \n",
      "_________________________________________________________________\n",
      "conv2d_1 (Conv2D)            (None, 56, 56, 36)        32436     \n",
      "_________________________________________________________________\n",
      "max_pooling2d_1 (MaxPooling2 (None, 28, 28, 36)        0         \n",
      "_________________________________________________________________\n",
      "conv2d_2 (Conv2D)            (None, 26, 26, 36)        11700     \n",
      "_________________________________________________________________\n",
      "max_pooling2d_2 (MaxPooling2 (None, 13, 13, 36)        0         \n",
      "_________________________________________________________________\n",
      "dropout (Dropout)            (None, 13, 13, 36)        0         \n",
      "_________________________________________________________________\n",
      "flatten (Flatten)            (None, 6084)              0         \n",
      "_________________________________________________________________\n",
      "dense (Dense)                (None, 128)               778880    \n",
      "_________________________________________________________________\n",
      "dense_1 (Dense)              (None, 3)                 387       \n",
      "=================================================================\n",
      "Total params: 826,355\n",
      "Trainable params: 826,355\n",
      "Non-trainable params: 0\n",
      "_________________________________________________________________\n",
      "\n",
      "Build model complete in 0.1405928134918213 seconds.\n",
      "\n"
     ]
    }
   ],
   "source": [
    "from keras import backend as K\n",
    "K.image_data_format() == \"channels_first\"\n",
    "\n",
    "tStart = time.time()\n",
    "\n",
    "model = Sequential()\n",
    "\n",
    "model.add(Conv2D(filters=36, kernel_size=(9, 9), activation='relu', input_shape=(128,128, 1)))\n",
    "model.add(MaxPooling2D(pool_size=(2, 2)))\n",
    "model.add(Conv2D(filters=36, kernel_size=(5, 5), activation='relu'))\n",
    "model.add(MaxPooling2D(pool_size=(2, 2)))\n",
    "model.add(Conv2D(filters=36, kernel_size=(3, 3), activation='relu'))\n",
    "model.add(MaxPooling2D(pool_size=(2, 2)))\n",
    "model.add(Dropout(0.25))\n",
    "model.add(Flatten())\n",
    "model.add(Dense(units=128, activation = 'relu'))\n",
    "model.add(Dense(units=3, activation = 'softmax')) # 3 labels\n",
    "\n",
    "model.summary()\n",
    "\n",
    "# sgd = Adam(lr=0.0005)\n",
    "\n",
    "model.compile(loss = 'categorical_crossentropy', optimizer='Nadam', metrics=['accuracy'])\n",
    "\n",
    "tEnd = time.time()\n",
    "\n",
    "print(f\"\\nBuild model complete in {tEnd - tStart} seconds.\\n\")\n",
    "\n"
   ]
  },
  {
   "cell_type": "code",
   "execution_count": 17,
   "id": "fbaad952",
   "metadata": {},
   "outputs": [
    {
     "name": "stderr",
     "output_type": "stream",
     "text": [
      "C:\\Users\\andy1\\AppData\\Roaming\\Python\\Python38\\site-packages\\keras\\engine\\training.py:1915: UserWarning: `Model.fit_generator` is deprecated and will be removed in a future version. Please use `Model.fit`, which supports generators.\n",
      "  warnings.warn('`Model.fit_generator` is deprecated and '\n"
     ]
    },
    {
     "name": "stdout",
     "output_type": "stream",
     "text": [
      "Epoch 1/50\n",
      "356/356 [==============================] - 60s 115ms/step - loss: 1.6445 - accuracy: 0.7934 - val_loss: 0.5476 - val_accuracy: 0.8156\n",
      "Epoch 2/50\n",
      "356/356 [==============================] - 39s 110ms/step - loss: 1.8891 - accuracy: 0.8215 - val_loss: 0.5550 - val_accuracy: 0.8153\n",
      "Epoch 3/50\n",
      "356/356 [==============================] - 39s 110ms/step - loss: 0.5704 - accuracy: 0.8266 - val_loss: 0.5470 - val_accuracy: 0.8153\n",
      "Epoch 4/50\n",
      "356/356 [==============================] - 39s 110ms/step - loss: 0.5293 - accuracy: 0.8246 - val_loss: 0.5440 - val_accuracy: 0.8148\n",
      "Epoch 5/50\n",
      "356/356 [==============================] - 39s 111ms/step - loss: 0.5173 - accuracy: 0.8309 - val_loss: 0.5376 - val_accuracy: 0.8150\n",
      "\n",
      "Epoch 00005: ReduceLROnPlateau reducing learning rate to 0.000800000037997961.\n",
      "Epoch 6/50\n",
      "356/356 [==============================] - 39s 111ms/step - loss: 0.5197 - accuracy: 0.8278 - val_loss: 0.5360 - val_accuracy: 0.8150\n",
      "Epoch 7/50\n",
      "356/356 [==============================] - 40s 111ms/step - loss: 0.5177 - accuracy: 0.8289 - val_loss: 0.5339 - val_accuracy: 0.8158\n",
      "Epoch 8/50\n",
      "356/356 [==============================] - 39s 111ms/step - loss: 0.5145 - accuracy: 0.8284 - val_loss: 0.5313 - val_accuracy: 0.8155\n",
      "Epoch 9/50\n",
      "356/356 [==============================] - 40s 111ms/step - loss: 0.5077 - accuracy: 0.8304 - val_loss: 0.5325 - val_accuracy: 0.8159\n",
      "Epoch 10/50\n",
      "356/356 [==============================] - 40s 111ms/step - loss: 0.5006 - accuracy: 0.8321 - val_loss: 0.5294 - val_accuracy: 0.8164\n",
      "Epoch 11/50\n",
      "356/356 [==============================] - 40s 111ms/step - loss: 0.5054 - accuracy: 0.8290 - val_loss: 0.5263 - val_accuracy: 0.8167\n",
      "Epoch 12/50\n",
      "356/356 [==============================] - 40s 111ms/step - loss: 0.4993 - accuracy: 0.8308 - val_loss: 0.5312 - val_accuracy: 0.8158\n",
      "Epoch 13/50\n",
      "356/356 [==============================] - 39s 111ms/step - loss: 0.5021 - accuracy: 0.8270 - val_loss: 0.5252 - val_accuracy: 0.8191\n",
      "Epoch 14/50\n",
      "356/356 [==============================] - 39s 111ms/step - loss: 0.4914 - accuracy: 0.8312 - val_loss: 0.5239 - val_accuracy: 0.8180\n",
      "Epoch 15/50\n",
      "356/356 [==============================] - 39s 111ms/step - loss: 0.4844 - accuracy: 0.8329 - val_loss: 0.5198 - val_accuracy: 0.8205\n",
      "Epoch 16/50\n",
      "356/356 [==============================] - 40s 112ms/step - loss: 0.4784 - accuracy: 0.8345 - val_loss: 0.5252 - val_accuracy: 0.8191- ETA: 0s - loss: 0.4784 - accuracy: 0.\n",
      "Epoch 17/50\n",
      "356/356 [==============================] - 39s 111ms/step - loss: 0.4655 - accuracy: 0.8384 - val_loss: 0.5122 - val_accuracy: 0.8223\n",
      "Epoch 18/50\n",
      "356/356 [==============================] - 39s 111ms/step - loss: 0.4586 - accuracy: 0.8375 - val_loss: 0.5139 - val_accuracy: 0.8209\n",
      "Epoch 19/50\n",
      "356/356 [==============================] - 39s 111ms/step - loss: 0.4524 - accuracy: 0.8377 - val_loss: 0.5127 - val_accuracy: 0.8230\n",
      "Epoch 20/50\n",
      "356/356 [==============================] - 39s 111ms/step - loss: 0.4335 - accuracy: 0.8448 - val_loss: 0.5185 - val_accuracy: 0.8216\n",
      "Epoch 21/50\n",
      "356/356 [==============================] - 39s 111ms/step - loss: 0.4244 - accuracy: 0.8495 - val_loss: 0.5164 - val_accuracy: 0.8231\n",
      "\n",
      "Epoch 00021: ReduceLROnPlateau reducing learning rate to 0.0005600000265985727.\n",
      "Epoch 22/50\n",
      "356/356 [==============================] - 39s 111ms/step - loss: 0.3972 - accuracy: 0.8556 - val_loss: 0.5236 - val_accuracy: 0.8250\n",
      "Epoch 23/50\n",
      "356/356 [==============================] - 39s 111ms/step - loss: 0.3827 - accuracy: 0.8590 - val_loss: 0.5230 - val_accuracy: 0.8225\n",
      "Epoch 24/50\n",
      "356/356 [==============================] - 39s 111ms/step - loss: 0.3720 - accuracy: 0.8606 - val_loss: 0.5278 - val_accuracy: 0.8247\n",
      "Epoch 25/50\n",
      "356/356 [==============================] - 39s 111ms/step - loss: 0.3546 - accuracy: 0.8688 - val_loss: 0.5292 - val_accuracy: 0.8247\n",
      "\n",
      "Epoch 00025: ReduceLROnPlateau reducing learning rate to 0.00039200001046992835.\n",
      "Epoch 26/50\n",
      "356/356 [==============================] - 40s 111ms/step - loss: 0.3331 - accuracy: 0.8742 - val_loss: 0.5341 - val_accuracy: 0.8289\n",
      "Epoch 27/50\n",
      "356/356 [==============================] - 39s 111ms/step - loss: 0.3174 - accuracy: 0.8814 - val_loss: 0.5440 - val_accuracy: 0.8272\n",
      "Epoch 28/50\n",
      "356/356 [==============================] - 39s 111ms/step - loss: 0.3074 - accuracy: 0.8845 - val_loss: 0.5489 - val_accuracy: 0.8253\n",
      "Epoch 29/50\n",
      "356/356 [==============================] - 39s 111ms/step - loss: 0.3024 - accuracy: 0.8851 - val_loss: 0.5631 - val_accuracy: 0.8275\n",
      "\n",
      "Epoch 00029: ReduceLROnPlateau reducing learning rate to 0.0002744000114034861.\n",
      "Epoch 30/50\n",
      "356/356 [==============================] - 39s 111ms/step - loss: 0.2785 - accuracy: 0.8916 - val_loss: 0.5805 - val_accuracy: 0.8314\n",
      "Epoch 31/50\n",
      "356/356 [==============================] - 40s 111ms/step - loss: 0.2720 - accuracy: 0.8981 - val_loss: 0.5742 - val_accuracy: 0.8316\n",
      "Epoch 32/50\n",
      "356/356 [==============================] - 40s 111ms/step - loss: 0.2629 - accuracy: 0.9004 - val_loss: 0.5933 - val_accuracy: 0.8289\n",
      "Epoch 33/50\n",
      "356/356 [==============================] - 39s 111ms/step - loss: 0.2583 - accuracy: 0.9010 - val_loss: 0.6006 - val_accuracy: 0.8313\n",
      "\n",
      "Epoch 00033: ReduceLROnPlateau reducing learning rate to 0.0001920800161315128.\n",
      "Epoch 34/50\n",
      "356/356 [==============================] - 39s 111ms/step - loss: 0.2446 - accuracy: 0.9065 - val_loss: 0.6042 - val_accuracy: 0.8261\n",
      "Epoch 35/50\n",
      "356/356 [==============================] - 39s 111ms/step - loss: 0.2305 - accuracy: 0.9127 - val_loss: 0.6223 - val_accuracy: 0.8292\n",
      "\n",
      "Epoch 00035: ReduceLROnPlateau reducing learning rate to 0.00015366401057690383.\n",
      "Epoch 36/50\n",
      "356/356 [==============================] - 39s 111ms/step - loss: 0.2265 - accuracy: 0.9142 - val_loss: 0.6351 - val_accuracy: 0.8294\n",
      "Epoch 37/50\n",
      "356/356 [==============================] - 39s 111ms/step - loss: 0.2208 - accuracy: 0.9169 - val_loss: 0.6301 - val_accuracy: 0.8283\n",
      "\n",
      "Epoch 00037: ReduceLROnPlateau reducing learning rate to 0.0001075648033292964.\n",
      "Epoch 38/50\n",
      "356/356 [==============================] - 39s 111ms/step - loss: 0.2103 - accuracy: 0.9216 - val_loss: 0.6453 - val_accuracy: 0.8308\n",
      "Epoch 39/50\n",
      "356/356 [==============================] - 39s 111ms/step - loss: 0.2034 - accuracy: 0.9226 - val_loss: 0.6481 - val_accuracy: 0.8316\n",
      "\n",
      "Epoch 00039: ReduceLROnPlateau reducing learning rate to 8.605184266343714e-05.\n",
      "Epoch 40/50\n",
      "356/356 [==============================] - 39s 111ms/step - loss: 0.2001 - accuracy: 0.9231 - val_loss: 0.6598 - val_accuracy: 0.8298\n",
      "Epoch 41/50\n",
      "356/356 [==============================] - 39s 111ms/step - loss: 0.1977 - accuracy: 0.9233 - val_loss: 0.6574 - val_accuracy: 0.8330\n",
      "\n",
      "Epoch 00041: ReduceLROnPlateau reducing learning rate to 6.023628884577192e-05.\n",
      "Epoch 42/50\n",
      "356/356 [==============================] - 39s 111ms/step - loss: 0.1947 - accuracy: 0.9269 - val_loss: 0.6665 - val_accuracy: 0.8281\n",
      "Epoch 43/50\n",
      "356/356 [==============================] - 40s 111ms/step - loss: 0.1889 - accuracy: 0.9274 - val_loss: 0.6681 - val_accuracy: 0.8297\n",
      "Epoch 44/50\n",
      "356/356 [==============================] - 39s 111ms/step - loss: 0.1907 - accuracy: 0.9291 - val_loss: 0.6779 - val_accuracy: 0.8306\n",
      "Epoch 45/50\n",
      "356/356 [==============================] - 39s 111ms/step - loss: 0.1874 - accuracy: 0.9285 - val_loss: 0.6790 - val_accuracy: 0.8300\n",
      "\n",
      "Epoch 00045: ReduceLROnPlateau reducing learning rate to 4.2165402192040347e-05.\n",
      "\n",
      "Epoch 00045: ReduceLROnPlateau reducing learning rate to 3.37323232088238e-05.\n",
      "Epoch 46/50\n",
      "356/356 [==============================] - 40s 111ms/step - loss: 0.1844 - accuracy: 0.9307 - val_loss: 0.6778 - val_accuracy: 0.8308\n",
      "Epoch 47/50\n",
      "356/356 [==============================] - 39s 111ms/step - loss: 0.1813 - accuracy: 0.9332 - val_loss: 0.6841 - val_accuracy: 0.8295\n",
      "Epoch 48/50\n",
      "356/356 [==============================] - 39s 111ms/step - loss: 0.1860 - accuracy: 0.9285 - val_loss: 0.6849 - val_accuracy: 0.8298\n",
      "Epoch 49/50\n",
      "356/356 [==============================] - 40s 111ms/step - loss: 0.1845 - accuracy: 0.9303 - val_loss: 0.6917 - val_accuracy: 0.8319\n",
      "\n",
      "Epoch 00049: ReduceLROnPlateau reducing learning rate to 2.3612625227542594e-05.\n",
      "\n",
      "Epoch 00049: ReduceLROnPlateau reducing learning rate to 1.8890100182034076e-05.\n",
      "Epoch 50/50\n"
     ]
    },
    {
     "name": "stdout",
     "output_type": "stream",
     "text": [
      "356/356 [==============================] - 40s 111ms/step - loss: 0.1782 - accuracy: 0.9332 - val_loss: 0.6923 - val_accuracy: 0.8311\n",
      "\n",
      "Train model complete in 1997.2684025764465 seconds.\n",
      "\n"
     ]
    }
   ],
   "source": [
    "# %% [code] {\"jupyter\":{\"outputs_hidden\":false},\"execution\":{\"iopub.status.busy\":\"2021-06-27T14:54:00.001214Z\",\"iopub.execute_input\":\"2021-06-27T14:54:00.001530Z\",\"iopub.status.idle\":\"2021-06-27T14:54:00.759721Z\",\"shell.execute_reply.started\":\"2021-06-27T14:54:00.001500Z\",\"shell.execute_reply\":\"2021-06-27T14:54:00.758520Z\"}}\n",
    "def validDataGenerator(data, label, batch_size):\n",
    "    \n",
    "    # 分批載入資料，每批數量為batch_size\n",
    "    \n",
    "    i = 0\n",
    "    \n",
    "    while (True):\n",
    "        \n",
    "        yield data[i*batch_size : (i+1)*batch_size], label[i*batch_size : (i+1)*batch_size]\n",
    "        \n",
    "        if(i < len(label)//batch_size):\n",
    "            i += 1\n",
    "        else:\n",
    "            i = 0\n",
    "\n",
    "trainingDataGenerator = ImageDataGenerator(\n",
    "#                             rotation_range=15,\n",
    "#                             height_shif t_range=0.1,\n",
    "#                             width_shift_range=0.05,\n",
    "#                             horizontal_flip=True,\n",
    "#                             vertical_flip=True,\n",
    "#                             zoom_range=0.1,\n",
    "                            data_format='channels_last'\n",
    ")\n",
    "\n",
    "trainingDataGenerator.fit(trainingData)\n",
    "\n",
    "# %% [code] {\"jupyter\":{\"outputs_hidden\":false},\"execution\":{\"iopub.status.busy\":\"2021-06-27T14:54:00.762312Z\",\"iopub.execute_input\":\"2021-06-27T14:54:00.762631Z\"}}\n",
    "tStart = time.time()\n",
    "\n",
    "batch_size = 128\n",
    "epochs = 50\n",
    "\n",
    "reduce_lr_from_loss = ReduceLROnPlateau(\n",
    "#     factor = 0.95,\n",
    "    factor = 0.7,\n",
    "    monitor = 'val_loss',\n",
    "    min_lr = 1e-6,\n",
    "    patience = 4,\n",
    "    verbose = 1,\n",
    ")\n",
    "\n",
    "reduce_lr_from_acc = ReduceLROnPlateau(\n",
    "#     factor = 0.98,\n",
    "    factor = 0.8,\n",
    "    monitor = 'val_accuracy',\n",
    "    min_lr = 1e-6,\n",
    "    patience = 4,\n",
    "    verbose = 1,\n",
    ")\n",
    "\n",
    "train_history = model.fit_generator(trainingDataGenerator.flow(trainingData, trainingLabelOneHot, batch_size),\n",
    "    steps_per_epoch=len(trainingLabelOneHot)//batch_size,\n",
    "    epochs=epochs,\n",
    "    validation_data=validDataGenerator(validData, validLabelOneHot, batch_size),\n",
    "    validation_steps=len(validLabelOneHot)//batch_size,\n",
    "    verbose=1,\n",
    "    callbacks=[reduce_lr_from_loss, reduce_lr_from_acc],\n",
    "#     initial_epoch=75\n",
    ")\n",
    "\n",
    "tEnd = time.time()\n",
    "\n",
    "print(f\"\\nTrain model complete in {tEnd - tStart} seconds.\\n\")\n",
    "\n"
   ]
  },
  {
   "cell_type": "code",
   "execution_count": 18,
   "id": "851a2140",
   "metadata": {},
   "outputs": [
    {
     "data": {
      "image/png": "[encoded data removed]",
      "text/plain": [
       "<Figure size 2160x432 with 2 Axes>"
      ]
     },
     "metadata": {
      "needs_background": "light"
     },
     "output_type": "display_data"
    },
    {
     "name": "stdout",
     "output_type": "stream",
     "text": [
      "save done\n"
     ]
    },
    {
     "name": "stderr",
     "output_type": "stream",
     "text": [
      "C:\\Users\\andy1\\AppData\\Roaming\\Python\\Python38\\site-packages\\keras\\engine\\sequential.py:450: UserWarning: `model.predict_classes()` is deprecated and will be removed after 2021-01-01. Please use instead:* `np.argmax(model.predict(x), axis=-1)`,   if your model does multi-class classification   (e.g. if it uses a `softmax` last-layer activation).* `(model.predict(x) > 0.5).astype(\"int32\")`,   if your model does binary classification   (e.g. if it uses a `sigmoid` last-layer activation).\n",
      "  warnings.warn('`model.predict_classes()` is deprecated and '\n"
     ]
    },
    {
     "data": {
      "text/html": [
       "<div>\n",
       "<style scoped>\n",
       "    .dataframe tbody tr th:only-of-type {\n",
       "        vertical-align: middle;\n",
       "    }\n",
       "\n",
       "    .dataframe tbody tr th {\n",
       "        vertical-align: top;\n",
       "    }\n",
       "\n",
       "    .dataframe thead th {\n",
       "        text-align: right;\n",
       "    }\n",
       "</style>\n",
       "<table border=\"1\" class=\"dataframe\">\n",
       "  <thead>\n",
       "    <tr style=\"text-align: right;\">\n",
       "      <th>predict</th>\n",
       "      <th>0</th>\n",
       "      <th>1</th>\n",
       "      <th>2</th>\n",
       "    </tr>\n",
       "    <tr>\n",
       "      <th>label</th>\n",
       "      <th></th>\n",
       "      <th></th>\n",
       "      <th></th>\n",
       "    </tr>\n",
       "  </thead>\n",
       "  <tbody>\n",
       "    <tr>\n",
       "      <th>0</th>\n",
       "      <td>4978</td>\n",
       "      <td>58</td>\n",
       "      <td>277</td>\n",
       "    </tr>\n",
       "    <tr>\n",
       "      <th>1</th>\n",
       "      <td>166</td>\n",
       "      <td>48</td>\n",
       "      <td>3</td>\n",
       "    </tr>\n",
       "    <tr>\n",
       "      <th>2</th>\n",
       "      <td>595</td>\n",
       "      <td>4</td>\n",
       "      <td>389</td>\n",
       "    </tr>\n",
       "  </tbody>\n",
       "</table>\n",
       "</div>"
      ],
      "text/plain": [
       "predict     0   1    2\n",
       "label                 \n",
       "0        4978  58  277\n",
       "1         166  48    3\n",
       "2         595   4  389"
      ]
     },
     "execution_count": 18,
     "metadata": {},
     "output_type": "execute_result"
    }
   ],
   "source": [
    "# %% [code] {\"jupyter\":{\"outputs_hidden\":false}}\n",
    "plt.figure(figsize=(30, 6))\n",
    "\n",
    "plt.subplot(1, 2, 1)\n",
    "plt.plot(train_history.history['accuracy'], label=\"accuracy\")\n",
    "plt.plot(train_history.history['val_accuracy'], 'orange', label=\"val_accuracy\")\n",
    "plt.xlabel('Epoch')\n",
    "plt.ylabel('accuracy')\n",
    "plt.legend(loc='lower right')\n",
    "\n",
    "# plt.subplot(1, 3, 2)\n",
    "# plt.plot(train_history.history['loss'], label=\"loss\")\n",
    "# plt.plot( plt.xlabel('Epoch')\n",
    "# plt.ylabel('loss')\n",
    "# plt.legend(loc='lower right')\n",
    "\n",
    "plt.subplot(1, 2, 2)\n",
    "plt.plot(train_history.history['lr'], 'orange')\n",
    "plt.xlabel('Epoch')\n",
    "plt.ylabel('learning_rate')\n",
    "\n",
    "# plt.savefig(\"DefectDetecting-2.png\")\n",
    "plt.show()\n",
    "\n",
    "# %% [code] {\"jupyter\":{\"outputs_hidden\":false}}\n",
    "model.save('/kaggle/working/spesis-class3-v1.h5')\n",
    "print(\"save done\")\n",
    "\n",
    "# %% [code] {\"jupyter\":{\"outputs_hidden\":false}}\n",
    "import pandas as pd\n",
    "\n",
    "prediction = model.predict_classes(validData)\n",
    "\n",
    "pd.crosstab(validLabel.reshape(len(validLabel)), prediction, rownames=['label'], colnames=['predict'])"
   ]
  },
  {
   "cell_type": "code",
   "execution_count": null,
   "id": "cbb7d3ec",
   "metadata": {},
   "outputs": [],
   "source": []
  }
 ],
 "metadata": {
  "kernelspec": {
   "display_name": "Python 3",
   "language": "python",
   "name": "python3"
  },
  "language_info": {
   "codemirror_mode": {
    "name": "ipython",
    "version": 3
   },
   "file_extension": ".py",
   "mimetype": "text/x-python",
   "name": "python",
   "nbconvert_exporter": "python",
   "pygments_lexer": "ipython3",
   "version": "3.8.8"
  }
 },
 "nbformat": 4,
 "nbformat_minor": 5
}
