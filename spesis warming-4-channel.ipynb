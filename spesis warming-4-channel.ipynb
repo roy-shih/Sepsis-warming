{
 "cells": [
  {
   "cell_type": "code",
   "execution_count": 455,
   "id": "fc01f381",
   "metadata": {},
   "outputs": [
    {
     "name": "stdout",
     "output_type": "stream",
     "text": [
      "Hello, TensorFlow!\r\n"
     ]
    }
   ],
   "source": [
    "import tensorflow as tf\n",
    "msg = tf.constant('Hello, TensorFlow!')\n",
    "tf.print(msg)"
   ]
  },
  {
   "cell_type": "code",
   "execution_count": 456,
   "id": "5818bc7e",
   "metadata": {},
   "outputs": [],
   "source": [
    "import os\n",
    "import numpy as np\n",
    "import pandas as pd\n",
    "from sklearn.model_selection import train_test_split"
   ]
  },
  {
   "cell_type": "code",
   "execution_count": 457,
   "id": "3bbdba87",
   "metadata": {},
   "outputs": [
    {
     "name": "stdout",
     "output_type": "stream",
     "text": [
      "GPU is avaliable\n"
     ]
    }
   ],
   "source": [
    "import random\n",
    "import matplotlib.pyplot as plt\n",
    "from PIL import Image\n",
    "from PIL import ImageEnhance\n",
    "from sklearn.model_selection import train_test_split\n",
    "import tensorflow as tf\n",
    "from tensorflow import keras\n",
    "from keras.utils import np_utils\n",
    "from keras.models import Sequential\n",
    "from keras.layers import Dense, Conv2D, Flatten, Dropout, MaxPooling2D\n",
    "from tensorflow.keras.optimizers import Adam, SGD\n",
    "from keras.callbacks import ReduceLROnPlateau\n",
    "from keras.preprocessing.image import ImageDataGenerator\n",
    "import time\n",
    "from numpy.core.numeric import False_ \n",
    "from astropy.visualization import make_lupton_rgb\n",
    "from matplotlib import pyplot\n",
    "\n",
    "print(\"GPU is\",\"avaliable\" if tf.config.list_physical_devices('GPU') else \"NOT AVAILABLE\")"
   ]
  },
  {
   "cell_type": "code",
   "execution_count": 458,
   "id": "e4a1d0f4",
   "metadata": {},
   "outputs": [
    {
     "name": "stdout",
     "output_type": "stream",
     "text": [
      "tensorflow version: 2.5.0\n",
      "GPU is avaliable\n"
     ]
    }
   ],
   "source": [
    "print(\"tensorflow version:\",tf.__version__)\n",
    "print(\"GPU is\",\"avaliable\" if tf.config.list_physical_devices('GPU') else \"NOT AVAILABLE\")"
   ]
  },
  {
   "cell_type": "code",
   "execution_count": 459,
   "id": "59793b86",
   "metadata": {},
   "outputs": [
    {
     "data": {
      "text/plain": [
       "[PhysicalDevice(name='/physical_device:GPU:0', device_type='GPU')]"
      ]
     },
     "execution_count": 459,
     "metadata": {},
     "output_type": "execute_result"
    }
   ],
   "source": [
    "tf.config.list_physical_devices('GPU')"
   ]
  },
  {
   "cell_type": "code",
   "execution_count": 460,
   "id": "a31c04f4",
   "metadata": {},
   "outputs": [
    {
     "name": "stdout",
     "output_type": "stream",
     "text": [
      "GPU is avaliable\n"
     ]
    }
   ],
   "source": [
    "print(\"GPU is\",\"avaliable\" if tf.config.list_physical_devices('GPU') else \"NOT AVAILABLE\")"
   ]
  },
  {
   "cell_type": "code",
   "execution_count": 461,
   "id": "399c66a2",
   "metadata": {},
   "outputs": [],
   "source": [
    "# %% [markdown]\n",
    "# # Data pre-processing\n",
    "#parameter about input feature\n",
    "item = [\"HR\", \"O2Sat\", \"Temp\", \"SBP\", \"MAP\", \"Resp\"] \n",
    "bound = [[30, 200], \n",
    "         [80, 100], \n",
    "         [35, 39], \n",
    "         [60, 180], \n",
    "         [60, 130], \n",
    "         [10, 35] \n",
    "        ] \n",
    "lower_bound=0 \n",
    "upper_bound=1\n",
    "\n",
    "#parameter about how many window we want to cut in one person data\n",
    "random_times=10\n",
    "\n",
    "#neural network set\n",
    "tmpData = []\n",
    "tmpDataR = [] \n",
    "tmpDataG = [] \n",
    "tmpDataB = [] \n",
    "tmpLabel = []\n",
    "\n",
    "\n",
    "#RGB g setup\n",
    "r_mu=0.0\n",
    "g_mu=128.0\n",
    "b_mu=255.0\n",
    "r_sigma=51.0\n",
    "g_sigma=51.0\n",
    "b_sigma=51.0"
   ]
  },
  {
   "cell_type": "code",
   "execution_count": 462,
   "id": "036011fc",
   "metadata": {},
   "outputs": [],
   "source": [
    "\n",
    "def rule(_label,check_begin,check_end,_window_size,_check_size):\n",
    "    spesis=np.nanmean(_label)\n",
    "    a=0\n",
    "    if _label[0:_window_size-1].all()==0:\n",
    "        check=dataframe[\"SepsisLabel\"].iloc[check_begin:check_end].to_numpy()\n",
    "        if np.nanmean(check)==0:\n",
    "            # no sepsis : No sepsis across (window_size) hours period and next (check_size) hour\n",
    "            outlabel= 0\n",
    "        else:\n",
    "            # pre-sepsis 1 : No sepsis across (window_size) hours period & sepsis in (window_size+1)~(window_size+check_size) hour\n",
    "            outlabel=1\n",
    "    elif np.nanmean(_label[0:5])==0 and _label[_window_size-1]==1:\n",
    "#         pre-sepsis 2 : No sepsis across (window_size/2) hours period & sepsis in number (window_size) hour\n",
    "        outlabel = 1\n",
    "    if spesis>=(1/_window_size):\n",
    "        # spesis : first hour and last hour are both spesis & total spesis time > 5\n",
    "        outlabel = 2\n",
    "    return outlabel"
   ]
  },
  {
   "cell_type": "code",
   "execution_count": 463,
   "id": "02f5d5c2",
   "metadata": {},
   "outputs": [],
   "source": [
    "#  window               #check      #label\n",
    "# [0 0 0 0 0 0 0 0 0 0] [0 0 0 0 0] 0\n",
    "# [0 0 0 0 0 0 0 0 0 0] [0 0 0 0 0] 0\n",
    "# [0 0 0 0 0 0 0 0 0 0] [0 0 0 0 0] 0\n",
    "# [0 0 0 0 0 0 0 0 0 0] [0 0 0 0 0] 0\n",
    "# [0 0 0 0 0 0 0 0 0 0] [0 0 0 0 0] 0\n",
    "# [0 0 0 0 0 0 0 0 0 0] [0 0 0 0 0] 0\n",
    "# [0 0 0 0 0 0 0 0 0 0] [0 0 0 0 1] 1\n",
    "# [0 0 0 0 0 0 0 0 0 0] [0 0 0 1 1] 1\n",
    "# [0 0 0 0 0 0 0 0 0 0] [0 0 1 1 1] 1\n",
    "# [0 0 0 0 0 0 0 0 0 0] [0 1 1 1 1] 1\n",
    "# [0 0 0 0 0 0 0 0 0 0] [1 1 1 1 1] 1\n",
    "# [0 0 0 0 0 0 0 0 0  \n",
    "# [0 0 0 0 0 1 1 1 1 1] [1 1 1 1 1] 2\n",
    "# [0 0 0 0 1 1 1 1 1 1] [1 1 1 1] 2\n",
    "# [0 0 0 1 1 1 1 1 1 1] [1 1 1] 2\n",
    "# [0 0 1 1 1 1 1 1 1 1] [1 1] 2\n",
    "# [0 1 1 1 1 1 1 1 1 1] [1] 2"
   ]
  },
  {
   "cell_type": "code",
   "execution_count": 464,
   "id": "0bd27a82",
   "metadata": {},
   "outputs": [],
   "source": [
    "def gus(x,mu,sigma):\n",
    "    return math.exp(-((x-mu)*(x-mu))/(2*(sigma)*(sigma)))"
   ]
  },
  {
   "cell_type": "code",
   "execution_count": 465,
   "id": "615904c3",
   "metadata": {},
   "outputs": [
    {
     "name": "stdout",
     "output_type": "stream",
     "text": [
      "\n",
      "Data processing complete in 2.5931453704833984 seconds.\n",
      "\n"
     ]
    }
   ],
   "source": [
    "# %% [code] {\"jupyter\":{\"outputs_hidden\":false},\"execution\":{\"iopub.status.busy\":\"2021-06-27T14:51:17.189751Z\",\"iopub.execute_input\":\"2021-06-27T14:51:17.190388Z\",\"iopub.status.idle\":\"2021-06-27T14:53:59.332797Z\",\"shell.execute_reply.started\":\"2021-06-27T14:51:17.190334Z\",\"shell.execute_reply\":\"2021-06-27T14:53:59.332019Z\"}}\n",
    "tStart = time.time()\n",
    "for file in range(1, 100):\n",
    "    #Read data\n",
    "    #training_set data filename\n",
    "    num = \"%06d\" % file\n",
    "    filename = \"p\"+num\n",
    "    ##training_setB data filename\n",
    "    #num=100000+i\n",
    "    #filename = \"p\"+str(num)\n",
    "    try:\n",
    "        dataframe = pd.read_csv(\"./training/\"+filename+\".psv\", skiprows=0, sep='|') \n",
    "        window_size=10\n",
    "        check_size=5\n",
    "        #Random cut method\n",
    "        index=0\n",
    "        for sample_time in range(random_times):\n",
    "            leng = len(dataframe)-window_size\n",
    "            up = random.randint(1, leng)\n",
    "            \n",
    "            #setup label \n",
    "            label = dataframe[\"SepsisLabel\"].iloc[up:up+window_size].to_numpy()   \n",
    "            a=rule(label,up+window_size,up+window_size+check_size,window_size,check_size)\n",
    "            if random.randint(0,20)<=10:\n",
    "                continue\n",
    "            classify=rule(label,sample_time+window_size,sample_time+window_size+check_size,window_size,check_size)\n",
    "            for a in range(4):\n",
    "                tmpLabel.append(classify)\n",
    "                    \n",
    "            #fill nan value and make dataframe(actually is numpy array)\n",
    "            data= np.empty((window_size))\n",
    "            rdata= np.empty((window_size))\n",
    "            gdata= np.empty((window_size))\n",
    "            bdata= np.empty((window_size))\n",
    "            for items in range(len(item)):\n",
    "                dataFromDF = dataframe[item[items]].drop(index=0).fillna(method='ffill').fillna(method='bfill')\n",
    "                dataFromDF = dataFromDF.iloc[up-1:up+window_size-1] #??????\n",
    "                dataFromDF = np.array((dataFromDF - bound[items][lower_bound])/(bound[items][upper_bound] - bound[items][lower_bound]))\n",
    "                R_dataFromDF = 255*np.exp(-((255*dataFromDF-r_mu)*(255*dataFromDF-r_mu))/(2*(r_sigma)*(r_sigma)))  \n",
    "                G_dataFromDF = 255*np.exp(-((255*dataFromDF-g_mu)*(255*dataFromDF-g_mu))/(2*(r_sigma)*(g_sigma)))  \n",
    "                B_dataFromDF = 255*np.exp(-((255*dataFromDF-b_mu)*(255*dataFromDF-b_mu))/(2*(r_sigma)*(b_sigma)))  \n",
    "                if items==0:\n",
    "                    data=dataFromDF\n",
    "                    rdata=R_dataFromDF\n",
    "                    gdata=G_dataFromDF\n",
    "                    bdata=B_dataFromDF\n",
    "                else:\n",
    "                    data=np.vstack([data,dataFromDF])\n",
    "                    rdata=np.vstack([rdata,R_dataFromDF])\n",
    "                    gdata=np.vstack([gdata,G_dataFromDF])\n",
    "                    bdata=np.vstack([bdata,B_dataFromDF])\n",
    "            \n",
    "            #Change to graph and enhance it, than save feature graph to training set\n",
    "            data *= 255  # 变换为0-255的灰度值\n",
    "            image = Image.fromarray(make_lupton_rgb(rdata.T, gdata.T, bdata.T, stretch=0.5)).resize((128,128))\n",
    "#             plt.imshow(image)\n",
    "            #R channel\n",
    "            im_R = Image.fromarray(rdata.T).convert('L').resize((128,128))\n",
    "            tmpData.append(np.array(im_R))\n",
    "            #G channel\n",
    "            im_G = Image.fromarray(gdata.T).convert('L').resize((128,128))\n",
    "            tmpData.append(np.array(im_R))\n",
    "            #B channel\n",
    "            im_B = Image.fromarray(bdata.T).convert('L').resize((128,128))\n",
    "            tmpData.append(np.array(im_B))\n",
    "            #Gray channel\n",
    "            im = Image.fromarray(data.T).convert('L') # 这样才能转为灰度图，如果是彩色图则改L为‘RGB’\n",
    "            im = ImageEnhance.Contrast(im).enhance(5.5).resize((128,128))#ImageEnhance.Contrast(im).enhance(0)\n",
    "            tmpData.append(np.array(im))\n",
    "    except:\n",
    "        continue\n",
    "   \n",
    "tEnd = time.time()\n",
    "\n",
    "print(f\"\\nData processing complete in {tEnd - tStart} seconds.\\n\")"
   ]
  },
  {
   "cell_type": "code",
   "execution_count": 466,
   "id": "c609cc7b",
   "metadata": {},
   "outputs": [
    {
     "data": {
      "text/plain": [
       "<matplotlib.image.AxesImage at 0x2a4331413d0>"
      ]
     },
     "execution_count": 466,
     "metadata": {},
     "output_type": "execute_result"
    },
    {
     "data": {
      "image/png": "[encoded data removed]",
      "text/plain": [
       "<Figure size 432x288 with 1 Axes>"
      ]
     },
     "metadata": {
      "needs_background": "light"
     },
     "output_type": "display_data"
    }
   ],
   "source": [
    "plt.imshow(image)"
   ]
  },
  {
   "cell_type": "code",
   "execution_count": 467,
   "id": "4a014bb0",
   "metadata": {
    "scrolled": true
   },
   "outputs": [
    {
     "name": "stdout",
     "output_type": "stream",
     "text": [
      "0\n"
     ]
    },
    {
     "data": {
      "image/png": "[encoded data removed]",
      "text/plain": [
       "<Figure size 432x288 with 1 Axes>"
      ]
     },
     "metadata": {
      "needs_background": "light"
     },
     "output_type": "display_data"
    }
   ],
   "source": [
    "for num in range(len(tmpLabel)):\n",
    "    if tmpLabel[num]==0:\n",
    "        plt.imshow(tmpData[num], cmap='gray')\n",
    "        print(tmpLabel[num])\n",
    "        break"
   ]
  },
  {
   "cell_type": "code",
   "execution_count": 468,
   "id": "824dfcc6",
   "metadata": {},
   "outputs": [
    {
     "name": "stdout",
     "output_type": "stream",
     "text": [
      "1\n"
     ]
    },
    {
     "data": {
      "image/png": "[encoded data removed]",
      "text/plain": [
       "<Figure size 432x288 with 1 Axes>"
      ]
     },
     "metadata": {
      "needs_background": "light"
     },
     "output_type": "display_data"
    }
   ],
   "source": [
    "# how feature graph look like\n",
    "for num in range(len(tmpLabel)):\n",
    "    if tmpLabel[num]==1:\n",
    "        plt.imshow(tmpData[num], cmap='gray')\n",
    "        print(tmpLabel[num])\n",
    "        break"
   ]
  },
  {
   "cell_type": "code",
   "execution_count": 469,
   "id": "b1ed1fa2",
   "metadata": {},
   "outputs": [
    {
     "name": "stdout",
     "output_type": "stream",
     "text": [
      "2\n"
     ]
    },
    {
     "data": {
      "image/png": "[encoded data removed]",
      "text/plain": [
       "<Figure size 432x288 with 1 Axes>"
      ]
     },
     "metadata": {
      "needs_background": "light"
     },
     "output_type": "display_data"
    }
   ],
   "source": [
    "# how feature graph look like\n",
    "for num in range(len(tmpLabel)):\n",
    "    if tmpLabel[num]==2:\n",
    "        plt.imshow(tmpData[num], cmap='gray')\n",
    "        print(tmpLabel[num])\n",
    "        break"
   ]
  },
  {
   "cell_type": "code",
   "execution_count": 470,
   "id": "38410e97",
   "metadata": {},
   "outputs": [
    {
     "name": "stdout",
     "output_type": "stream",
     "text": [
      "1668 -> 0.86875\n",
      "112 -> 0.058333333333333334\n",
      "140 -> 0.07291666666666667\n"
     ]
    }
   ],
   "source": [
    "#Number of each category\n",
    "numofclass0=0\n",
    "numofclass1=0\n",
    "numofclass2=0\n",
    "for num in range(len(tmpLabel)):\n",
    "    if tmpLabel[num]==0:\n",
    "        numofclass0+=1\n",
    "    elif tmpLabel[num]==1:\n",
    "        numofclass1+=1\n",
    "    elif tmpLabel[num]==2:\n",
    "        numofclass2+=1\n",
    "print(numofclass0,\"->\",numofclass0/len(tmpLabel))\n",
    "print(numofclass1,\"->\",numofclass1/len(tmpLabel))\n",
    "print(numofclass2,\"->\",numofclass2/len(tmpLabel))"
   ]
  },
  {
   "cell_type": "code",
   "execution_count": 475,
   "id": "515c0351",
   "metadata": {},
   "outputs": [
    {
     "name": "stdout",
     "output_type": "stream",
     "text": [
      "Shuffle complete.\n",
      "Transfer complete.\n",
      "Split data complete.\n",
      "Reshape data complete.\n",
      "\n",
      "Prepare training data complete in 0.03696441650390625 seconds.\n",
      "\n"
     ]
    }
   ],
   "source": [
    "tStart = time.time()\n",
    "\n",
    "# shuffle, seed = 6\n",
    "random.Random(6).shuffle(tmpData)\n",
    "random.Random(6).shuffle(tmpLabel)\n",
    "\n",
    "print(\"Shuffle complete.\")\n",
    "\n",
    "tmpData = np.array(tmpData)\n",
    "tmpLabel = np.array(tmpLabel)\n",
    "\n",
    "print(\"Transfer complete.\")\n",
    "\n",
    "trainingData, validData, trainingLabel1, validLabel1 = train_test_split(tmpData, tmpLabel, test_size=0.125)\n",
    "\n",
    "print(\"Split data complete.\")\n",
    "\n",
    "trainingLabel=[]\n",
    "validLabel=[]\n",
    "for i in range(len(trainingLabel1)):\n",
    "    if i%4==0:\n",
    "        trainingLabel.append(trainingLabel1[i])\n",
    "trainingLabel= np.array(trainingLabel)\n",
    "for i in range(len(validLabel1)):\n",
    "    if i%4==0:\n",
    "        validLabel.append(validLabel1[i])\n",
    "validLabel= np.array(validLabel)\n",
    "\n",
    "trainingData = trainingData.reshape(int(len(trainingData)/4), 128,128, 4)\n",
    "trainingLabel = trainingLabel.reshape(len(trainingLabel), 1)\n",
    "# print(trainingData)\n",
    "validData = validData.reshape(int(len(validData)/4), 128,128, 4)\n",
    "validLabel = validLabel.reshape(len(validLabel), 1)\n",
    "\n",
    "print(\"Reshape data complete.\")\n",
    "\n",
    "trainingLabelOneHot = np_utils.to_categorical(trainingLabel) # One-Hot encoding label\n",
    "validLabelOneHot = np_utils.to_categorical(validLabel)\n",
    "\n",
    "tEnd = time.time()\n",
    "\n",
    "print(f\"\\nPrepare training data complete in {tEnd - tStart} seconds.\\n\")"
   ]
  },
  {
   "cell_type": "code",
   "execution_count": 476,
   "id": "6ff4c648",
   "metadata": {},
   "outputs": [
    {
     "name": "stdout",
     "output_type": "stream",
     "text": [
      "Model: \"sequential\"\n",
      "_________________________________________________________________\n",
      "Layer (type)                 Output Shape              Param #   \n",
      "=================================================================\n",
      "conv2d (Conv2D)              (None, 120, 120, 36)      11700     \n",
      "_________________________________________________________________\n",
      "max_pooling2d (MaxPooling2D) (None, 60, 60, 36)        0         \n",
      "_________________________________________________________________\n",
      "conv2d_1 (Conv2D)            (None, 56, 56, 36)        32436     \n",
      "_________________________________________________________________\n",
      "max_pooling2d_1 (MaxPooling2 (None, 28, 28, 36)        0         \n",
      "_________________________________________________________________\n",
      "conv2d_2 (Conv2D)            (None, 26, 26, 36)        11700     \n",
      "_________________________________________________________________\n",
      "max_pooling2d_2 (MaxPooling2 (None, 13, 13, 36)        0         \n",
      "_________________________________________________________________\n",
      "dropout (Dropout)            (None, 13, 13, 36)        0         \n",
      "_________________________________________________________________\n",
      "flatten (Flatten)            (None, 6084)              0         \n",
      "_________________________________________________________________\n",
      "dense (Dense)                (None, 128)               778880    \n",
      "_________________________________________________________________\n",
      "dense_1 (Dense)              (None, 3)                 387       \n",
      "=================================================================\n",
      "Total params: 835,103\n",
      "Trainable params: 835,103\n",
      "Non-trainable params: 0\n",
      "_________________________________________________________________\n",
      "\n",
      "Build model complete in 0.376514196395874 seconds.\n",
      "\n"
     ]
    }
   ],
   "source": [
    "from keras import backend as K\n",
    "K.image_data_format() == \"channels_first\"\n",
    "\n",
    "tStart = time.time()\n",
    "\n",
    "model = Sequential()\n",
    "\n",
    "model.add(Conv2D(filters=36, kernel_size=(9, 9), activation='relu', input_shape=(128,128, 4)))\n",
    "model.add(MaxPooling2D(pool_size=(2, 2)))\n",
    "model.add(Conv2D(filters=36, kernel_size=(5, 5), activation='relu'))\n",
    "model.add(MaxPooling2D(pool_size=(2, 2)))\n",
    "model.add(Conv2D(filters=36, kernel_size=(3, 3), activation='relu'))\n",
    "model.add(MaxPooling2D(pool_size=(2, 2)))\n",
    "model.add(Dropout(0.25))\n",
    "model.add(Flatten())\n",
    "model.add(Dense(units=128, activation = 'relu'))\n",
    "model.add(Dense(units=3, activation = 'softmax')) # 3 labels\n",
    "\n",
    "model.summary()\n",
    "\n",
    "# sgd = Adam(lr=0.0005)\n",
    "\n",
    "model.compile(loss = 'categorical_crossentropy', optimizer='Nadam', metrics=['accuracy'])\n",
    "\n",
    "tEnd = time.time()\n",
    "\n",
    "print(f\"\\nBuild model complete in {tEnd - tStart} seconds.\\n\")"
   ]
  },
  {
   "cell_type": "code",
   "execution_count": 477,
   "id": "e87d7bfc",
   "metadata": {},
   "outputs": [
    {
     "ename": "MemoryError",
     "evalue": "Unable to allocate 105. MiB for an array with shape (420, 128, 128, 4) and data type float32",
     "output_type": "error",
     "traceback": [
      "\u001b[1;31m---------------------------------------------------------------------------\u001b[0m",
      "\u001b[1;31mMemoryError\u001b[0m                               Traceback (most recent call last)",
      "\u001b[1;32m~\\AppData\\Local\\Temp/ipykernel_4976/786961207.py\u001b[0m in \u001b[0;36m<module>\u001b[1;34m\u001b[0m\n\u001b[0;32m     25\u001b[0m )\n\u001b[0;32m     26\u001b[0m \u001b[1;33m\u001b[0m\u001b[0m\n\u001b[1;32m---> 27\u001b[1;33m \u001b[0mtrainingDataGenerator\u001b[0m\u001b[1;33m.\u001b[0m\u001b[0mfit\u001b[0m\u001b[1;33m(\u001b[0m\u001b[0mtrainingData\u001b[0m\u001b[1;33m)\u001b[0m\u001b[1;33m\u001b[0m\u001b[1;33m\u001b[0m\u001b[0m\n\u001b[0m\u001b[0;32m     28\u001b[0m \u001b[1;33m\u001b[0m\u001b[0m\n\u001b[0;32m     29\u001b[0m \u001b[1;31m# %% [code] {\"jupyter\":{\"outputs_hidden\":false},\"execution\":{\"iopub.status.busy\":\"2021-06-27T14:54:00.762312Z\",\"iopub.execute_input\":\"2021-06-27T14:54:00.762631Z\"}}\u001b[0m\u001b[1;33m\u001b[0m\u001b[1;33m\u001b[0m\u001b[1;33m\u001b[0m\u001b[0m\n",
      "\u001b[1;32mc:\\users\\user\\appdata\\local\\programs\\python\\python39\\lib\\site-packages\\keras_preprocessing\\image\\image_data_generator.py\u001b[0m in \u001b[0;36mfit\u001b[1;34m(self, x, augment, rounds, seed)\u001b[0m\n\u001b[0;32m    931\u001b[0m             \u001b[0mseed\u001b[0m\u001b[1;33m:\u001b[0m \u001b[0mInt\u001b[0m \u001b[1;33m(\u001b[0m\u001b[0mdefault\u001b[0m\u001b[1;33m:\u001b[0m \u001b[1;32mNone\u001b[0m\u001b[1;33m)\u001b[0m\u001b[1;33m.\u001b[0m \u001b[0mRandom\u001b[0m \u001b[0mseed\u001b[0m\u001b[1;33m.\u001b[0m\u001b[1;33m\u001b[0m\u001b[1;33m\u001b[0m\u001b[0m\n\u001b[0;32m    932\u001b[0m        \"\"\"\n\u001b[1;32m--> 933\u001b[1;33m         \u001b[0mx\u001b[0m \u001b[1;33m=\u001b[0m \u001b[0mnp\u001b[0m\u001b[1;33m.\u001b[0m\u001b[0masarray\u001b[0m\u001b[1;33m(\u001b[0m\u001b[0mx\u001b[0m\u001b[1;33m,\u001b[0m \u001b[0mdtype\u001b[0m\u001b[1;33m=\u001b[0m\u001b[0mself\u001b[0m\u001b[1;33m.\u001b[0m\u001b[0mdtype\u001b[0m\u001b[1;33m)\u001b[0m\u001b[1;33m\u001b[0m\u001b[1;33m\u001b[0m\u001b[0m\n\u001b[0m\u001b[0;32m    934\u001b[0m         \u001b[1;32mif\u001b[0m \u001b[0mx\u001b[0m\u001b[1;33m.\u001b[0m\u001b[0mndim\u001b[0m \u001b[1;33m!=\u001b[0m \u001b[1;36m4\u001b[0m\u001b[1;33m:\u001b[0m\u001b[1;33m\u001b[0m\u001b[1;33m\u001b[0m\u001b[0m\n\u001b[0;32m    935\u001b[0m             raise ValueError('Input to `.fit()` should have rank 4. '\n",
      "\u001b[1;32mc:\\users\\user\\appdata\\local\\programs\\python\\python39\\lib\\site-packages\\numpy\\core\\_asarray.py\u001b[0m in \u001b[0;36masarray\u001b[1;34m(a, dtype, order)\u001b[0m\n\u001b[0;32m     81\u001b[0m \u001b[1;33m\u001b[0m\u001b[0m\n\u001b[0;32m     82\u001b[0m     \"\"\"\n\u001b[1;32m---> 83\u001b[1;33m     \u001b[1;32mreturn\u001b[0m \u001b[0marray\u001b[0m\u001b[1;33m(\u001b[0m\u001b[0ma\u001b[0m\u001b[1;33m,\u001b[0m \u001b[0mdtype\u001b[0m\u001b[1;33m,\u001b[0m \u001b[0mcopy\u001b[0m\u001b[1;33m=\u001b[0m\u001b[1;32mFalse\u001b[0m\u001b[1;33m,\u001b[0m \u001b[0morder\u001b[0m\u001b[1;33m=\u001b[0m\u001b[0morder\u001b[0m\u001b[1;33m)\u001b[0m\u001b[1;33m\u001b[0m\u001b[1;33m\u001b[0m\u001b[0m\n\u001b[0m\u001b[0;32m     84\u001b[0m \u001b[1;33m\u001b[0m\u001b[0m\n\u001b[0;32m     85\u001b[0m \u001b[1;33m\u001b[0m\u001b[0m\n",
      "\u001b[1;31mMemoryError\u001b[0m: Unable to allocate 105. MiB for an array with shape (420, 128, 128, 4) and data type float32"
     ]
    }
   ],
   "source": [
    "# %% [code] {\"jupyter\":{\"outputs_hidden\":false},\"execution\":{\"iopub.status.busy\":\"2021-06-27T14:54:00.001214Z\",\"iopub.execute_input\":\"2021-06-27T14:54:00.001530Z\",\"iopub.status.idle\":\"2021-06-27T14:54:00.759721Z\",\"shell.execute_reply.started\":\"2021-06-27T14:54:00.001500Z\",\"shell.execute_reply\":\"2021-06-27T14:54:00.758520Z\"}}\n",
    "def validDataGenerator(data, label, batch_size):\n",
    "    \n",
    "    # 分批載入資料，每批數量為batch_size\n",
    "    \n",
    "    i = 0\n",
    "    \n",
    "    while (True):\n",
    "        \n",
    "        yield data[i*batch_size : (i+1)*batch_size], label[i*batch_size : (i+1)*batch_size]\n",
    "        \n",
    "        if(i < len(label)//batch_size):\n",
    "            i += 1\n",
    "        else:\n",
    "            i = 0\n",
    "\n",
    "trainingDataGenerator = ImageDataGenerator(\n",
    "#                             rotation_range=15,\n",
    "#                             height_shif t_range=0.1,\n",
    "#                             width_shift_range=0.05,\n",
    "#                             horizontal_flip=True,\n",
    "#                             vertical_flip=True,\n",
    "#                             zoom_range=0.1,\n",
    "                            data_format='channels_last'\n",
    ")\n",
    "\n",
    "trainingDataGenerator.fit(trainingData)\n",
    "\n",
    "# %% [code] {\"jupyter\":{\"outputs_hidden\":false},\"execution\":{\"iopub.status.busy\":\"2021-06-27T14:54:00.762312Z\",\"iopub.execute_input\":\"2021-06-27T14:54:00.762631Z\"}}\n",
    "tStart = time.time()\n",
    "\n",
    "batch_size = 128\n",
    "epochs = 50\n",
    "\n",
    "reduce_lr_from_loss = ReduceLROnPlateau(\n",
    "#     factor = 0.95,\n",
    "    factor = 0.7,\n",
    "    monitor = 'val_loss',\n",
    "    min_lr = 1e-6,\n",
    "    patience = 4,\n",
    "    verbose = 1,\n",
    ")\n",
    "\n",
    "reduce_lr_from_acc = ReduceLROnPlateau(\n",
    "#     factor = 0.98,\n",
    "    factor = 0.8,\n",
    "    monitor = 'val_accuracy',\n",
    "    min_lr = 1e-6,\n",
    "    patience = 4,\n",
    "    verbose = 1,\n",
    ")\n",
    "\n",
    "train_history = model.fit_generator(trainingDataGenerator.flow(trainingData, trainingLabelOneHot, batch_size),\n",
    "    steps_per_epoch=len(trainingLabelOneHot)//batch_size,\n",
    "    epochs=epochs,\n",
    "    validation_data=validDataGenerator(validData, validLabelOneHot, batch_size),\n",
    "    validation_steps=len(validLabelOneHot)//batch_size,\n",
    "    verbose=1,\n",
    "    callbacks=[reduce_lr_from_loss, reduce_lr_from_acc],\n",
    "#     initial_epoch=75\n",
    ")\n",
    "\n",
    "tEnd = time.time()\n",
    "\n",
    "print(f\"\\nTrain model complete in {tEnd - tStart} seconds.\\n\")"
   ]
  },
  {
   "cell_type": "code",
   "execution_count": null,
   "id": "81b98198",
   "metadata": {},
   "outputs": [],
   "source": [
    "# %% [code] {\"jupyter\":{\"outputs_hidden\":false}}\n",
    "plt.figure(figsize=(30, 6))\n",
    "\n",
    "plt.subplot(1, 2, 1)\n",
    "plt.plot(train_history.history['accuracy'], label=\"accuracy\")\n",
    "plt.plot(train_history.history['val_accuracy'], 'orange', label=\"val_accuracy\")\n",
    "plt.xlabel('Epoch')\n",
    "plt.ylabel('accuracy')\n",
    "plt.legend(loc='lower right')\n",
    "\n",
    "# plt.subplot(1, 3, 2)\n",
    "# plt.plot(train_history.history['loss'], label=\"loss\")\n",
    "# plt.plot( plt.xlabel('Epoch')\n",
    "# plt.ylabel('loss')\n",
    "# plt.legend(loc='lower right')\n",
    "\n",
    "plt.subplot(1, 2, 2)\n",
    "plt.plot(train_history.history['lr'], 'orange')\n",
    "plt.xlabel('Epoch')\n",
    "plt.ylabel('learning_rate')\n",
    "\n",
    "# plt.savefig(\"DefectDetecting-2.png\")\n",
    "plt.show()\n",
    "\n",
    "# %% [code] {\"jupyter\":{\"outputs_hidden\":false}}\n",
    "model.save('/kaggle/working/spesis-class3-v1.h5')\n",
    "print(\"save done\")\n",
    "\n",
    "# %% [code] {\"jupyter\":{\"outputs_hidden\":false}}\n",
    "import pandas as pd\n",
    "\n",
    "prediction = model.predict_classes(validData)\n",
    "\n",
    "pd.crosstab(validLabel.reshape(len(validLabel)), prediction, rownames=['label'], colnames=['predict'])"
   ]
  }
 ],
 "metadata": {
  "kernelspec": {
   "display_name": "Python 3 (ipykernel)",
   "language": "python",
   "name": "python3"
  },
  "language_info": {
   "codemirror_mode": {
    "name": "ipython",
    "version": 3
   },
   "file_extension": ".py",
   "mimetype": "text/x-python",
   "name": "python",
   "nbconvert_exporter": "python",
   "pygments_lexer": "ipython3",
   "version": "3.9.6"
  }
 },
 "nbformat": 4,
 "nbformat_minor": 5
}
