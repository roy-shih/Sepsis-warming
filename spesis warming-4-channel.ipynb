{
 "cells": [
  {
   "cell_type": "code",
   "execution_count": 1,
   "id": "fc01f381",
   "metadata": {},
   "outputs": [
    {
     "name": "stdout",
     "output_type": "stream",
     "text": [
      "Hello, TensorFlow!\r\n"
     ]
    }
   ],
   "source": [
    "import tensorflow as tf\n",
    "msg = tf.constant('Hello, TensorFlow!')\n",
    "tf.print(msg)"
   ]
  },
  {
   "cell_type": "code",
   "execution_count": 2,
   "id": "5818bc7e",
   "metadata": {},
   "outputs": [],
   "source": [
    "import os\n",
    "import numpy as np\n",
    "import pandas as pd\n",
    "from sklearn.model_selection import train_test_split"
   ]
  },
  {
   "cell_type": "code",
   "execution_count": 3,
   "id": "3bbdba87",
   "metadata": {},
   "outputs": [
    {
     "name": "stdout",
     "output_type": "stream",
     "text": [
      "GPU is avaliable\n"
     ]
    }
   ],
   "source": [
    "import random\n",
    "import matplotlib.pyplot as plt\n",
    "from PIL import Image\n",
    "from PIL import ImageEnhance\n",
    "from sklearn.model_selection import train_test_split\n",
    "import tensorflow as tf\n",
    "from tensorflow import keras\n",
    "from keras.utils import np_utils\n",
    "from keras.models import Sequential\n",
    "from keras.layers import Dense, Conv2D, Flatten, Dropout, MaxPooling2D\n",
    "from tensorflow.keras.optimizers import Adam, SGD\n",
    "from keras.callbacks import ReduceLROnPlateau\n",
    "from keras.preprocessing.image import ImageDataGenerator\n",
    "import time\n",
    "from numpy.core.numeric import False_ \n",
    "from astropy.visualization import make_lupton_rgb\n",
    "from matplotlib import pyplot\n",
    "\n",
    "print(\"GPU is\",\"avaliable\" if tf.config.list_physical_devices('GPU') else \"NOT AVAILABLE\")"
   ]
  },
  {
   "cell_type": "code",
   "execution_count": 4,
   "id": "e4a1d0f4",
   "metadata": {},
   "outputs": [
    {
     "name": "stdout",
     "output_type": "stream",
     "text": [
      "tensorflow version: 2.5.0\n",
      "GPU is avaliable\n"
     ]
    }
   ],
   "source": [
    "print(\"tensorflow version:\",tf.__version__)\n",
    "print(\"GPU is\",\"avaliable\" if tf.config.list_physical_devices('GPU') else \"NOT AVAILABLE\")"
   ]
  },
  {
   "cell_type": "code",
   "execution_count": 5,
   "id": "59793b86",
   "metadata": {},
   "outputs": [
    {
     "data": {
      "text/plain": [
       "[PhysicalDevice(name='/physical_device:GPU:0', device_type='GPU')]"
      ]
     },
     "execution_count": 5,
     "metadata": {},
     "output_type": "execute_result"
    }
   ],
   "source": [
    "tf.config.list_physical_devices('GPU')"
   ]
  },
  {
   "cell_type": "code",
   "execution_count": 6,
   "id": "a31c04f4",
   "metadata": {},
   "outputs": [
    {
     "name": "stdout",
     "output_type": "stream",
     "text": [
      "GPU is avaliable\n"
     ]
    }
   ],
   "source": [
    "print(\"GPU is\",\"avaliable\" if tf.config.list_physical_devices('GPU') else \"NOT AVAILABLE\")"
   ]
  },
  {
   "cell_type": "code",
   "execution_count": 7,
   "id": "399c66a2",
   "metadata": {},
   "outputs": [],
   "source": [
    "# %% [markdown]\n",
    "# # Data pre-processing\n",
    "#parameter about input feature\n",
    "item = [\"HR\", \"O2Sat\", \"Temp\", \"SBP\", \"MAP\", \"Resp\"] \n",
    "bound = [[30, 200], \n",
    "         [80, 100], \n",
    "         [35, 39], \n",
    "         [60, 180], \n",
    "         [60, 130], \n",
    "         [10, 35] \n",
    "        ] \n",
    "lower_bound=0 \n",
    "upper_bound=1\n",
    "\n",
    "#parameter about how many window we want to cut in one person data\n",
    "random_times=10\n",
    "\n",
    "#neural network set\n",
    "tmpData = []\n",
    "tmpDataR = [] \n",
    "tmpDataG = [] \n",
    "tmpDataB = [] \n",
    "tmpLabel = []\n",
    "channel=3\n",
    "\n",
    "#RGB g setup\n",
    "r_mu=255.0\n",
    "g_mu=128.0\n",
    "b_mu=0.0\n",
    "r_sigma=100.0\n",
    "g_sigma=100.0\n",
    "b_sigma=100.0"
   ]
  },
  {
   "cell_type": "code",
   "execution_count": 8,
   "id": "036011fc",
   "metadata": {},
   "outputs": [],
   "source": [
    "\n",
    "def rule(_label,check_begin,check_end,_window_size,_check_size):\n",
    "    spesis=np.nanmean(_label)\n",
    "    a=0\n",
    "    if _label[0:_window_size-1].all()==0:\n",
    "        check=dataframe[\"SepsisLabel\"].iloc[check_begin:check_end].to_numpy()\n",
    "        if np.nanmean(check)==0:\n",
    "            # no sepsis : No sepsis across (window_size) hours period and next (check_size) hour\n",
    "            outlabel= 0\n",
    "        else:\n",
    "            # pre-sepsis 1 : No sepsis across (window_size) hours period & sepsis in (window_size+1)~(window_size+check_size) hour\n",
    "            outlabel=1\n",
    "    elif np.nanmean(_label[0:(window_size/2)])==0 and _label[_window_size-1]==1:\n",
    "#         pre-sepsis 2 : No sepsis across (window_size/2) hours period & sepsis in number (window_size) hour\n",
    "        outlabel = 1\n",
    "    if spesis>=((_window_size/2)/_window_size):\n",
    "        # spesis : first hour and last hour are both spesis & total spesis time > 5\n",
    "        outlabel = 2\n",
    "#     print(_label,check,outlabel)\n",
    "    return outlabel"
   ]
  },
  {
   "cell_type": "code",
   "execution_count": 9,
   "id": "02f5d5c2",
   "metadata": {},
   "outputs": [],
   "source": [
    "#  window               #check      #label\n",
    "# [0 0 0 0 0 0 0 0 0 0] [0 0 0 0 0] 0\n",
    "# [0 0 0 0 0 0 0 0 0 0] [0 0 0 0 0] 0\n",
    "# [0 0 0 0 0 0 0 0 0 0] [0 0 0 0 0] 0\n",
    "# [0 0 0 0 0 0 0 0 0 0] [0 0 0 0 0] 0\n",
    "# [0 0 0 0 0 0 0 0 0 0] [0 0 0 0 0] 0\n",
    "# [0 0 0 0 0 0 0 0 0 0] [0 0 0 0 0] 0\n",
    "# [0 0 0 0 0 0 0 0 0 0] [0 0 0 0 1] 1\n",
    "# [0 0 0 0 0 0 0 0 0 0] [0 0 0 1 1] 1\n",
    "# [0 0 0 0 0 0 0 0 0 0] [0 0 1 1 1] 1\n",
    "# [0 0 0 0 0 0 0 0 0 0] [0 1 1 1 1] 1\n",
    "# [0 0 0 0 0 0 0 0 0 0] [1 1 1 1 1] 1\n",
    "# [0 0 0 0 0 0 0 0 0  \n",
    "# [0 0 0 0 0 1 1 1 1 1] [1 1 1 1 1] 2\n",
    "# [0 0 0 0 1 1 1 1 1 1] [1 1 1 1] 2\n",
    "# [0 0 0 1 1 1 1 1 1 1] [1 1 1] 2\n",
    "# [0 0 1 1 1 1 1 1 1 1] [1 1] 2\n",
    "# [0 1 1 1 1 1 1 1 1 1] [1] 2\n",
    "\n",
    "\n",
    "#  data *= 255  # 变换为0-255的灰度值\n",
    "#                     image = Image.fromarray(make_lupton_rgb(rdata.T, gdata.T, bdata.T, stretch=0.5)).resize((128,128))\n",
    "#                     #R channel\n",
    "#                     im_R = Image.fromarray(rdata.T).convert('L').resize((128,128))\n",
    "#                     tmpData.append(np.array(im_R))\n",
    "#                     #G channel\n",
    "#                     im_G = Image.fromarray(gdata.T).convert('L').resize((128,128))\n",
    "#                     tmpData.append(np.array(im_G))\n",
    "#                     #B channel\n",
    "#                     im_B = Image.fromarray(bdata.T).convert('L').resize((128,128))\n",
    "#                     tmpData.append(np.array(im_B))\n",
    "#                     #Gray channel\n",
    "#                     im = Image.fromarray(data.T).convert('L') # 这样才能转为灰度图，如果是彩色图则改L为‘RGB’\n",
    "#                     im = ImageEnhance.Contrast(im).enhance(5.5).resize((128,128))#ImageEnhance.Contrast(im).enhance(0)\n",
    "# #                     tmpData.append(np.array(im))\n",
    "#  #Change to graph and enhance it, than save feature graph to training set\n",
    "#                     data *= 255  # 变换为0-255的灰度值\n",
    "#                     im = Image.fromarray(data.T).convert('L') # 这样才能转为灰度图，如果是彩色图则改L为‘RGB’\n",
    "#                     im = ImageEnhance.Contrast(im).enhance(5.5).resize((128,128))#ImageEnhance.Contrast(im).enhance(0)\n",
    "#                     savepath=\"./out/\"+str(classify)+\"/\"+filename+str(index)+\".jpg\"\n",
    "#                     index+=1\n",
    "#                     image.save(savepath)"
   ]
  },
  {
   "cell_type": "code",
   "execution_count": 10,
   "id": "0bd27a82",
   "metadata": {},
   "outputs": [],
   "source": [
    "def gus(x,mu,sigma):\n",
    "    return math.exp(-((x-mu)*(x-mu))/(2*(sigma)*(sigma)))"
   ]
  },
  {
   "cell_type": "code",
   "execution_count": 11,
   "id": "615904c3",
   "metadata": {},
   "outputs": [
    {
     "name": "stderr",
     "output_type": "stream",
     "text": [
      "c:\\users\\user\\appdata\\local\\programs\\python\\python39\\lib\\site-packages\\numpy\\core\\fromnumeric.py:3372: RuntimeWarning: Mean of empty slice.\n",
      "  return _methods._mean(a, axis=axis, dtype=dtype,\n",
      "c:\\users\\user\\appdata\\local\\programs\\python\\python39\\lib\\site-packages\\numpy\\core\\_methods.py:170: RuntimeWarning: invalid value encountered in double_scalars\n",
      "  ret = ret.dtype.type(ret / rcount)\n"
     ]
    },
    {
     "name": "stdout",
     "output_type": "stream",
     "text": [
      "\n",
      "Data processing complete in 418.1176254749298 seconds.\n",
      "\n"
     ]
    }
   ],
   "source": [
    "# %% [code] {\"jupyter\":{\"outputs_hidden\":false},\"execution\":{\"iopub.status.busy\":\"2021-06-27T14:51:17.189751Z\",\"iopub.execute_input\":\"2021-06-27T14:51:17.190388Z\",\"iopub.status.idle\":\"2021-06-27T14:53:59.332797Z\",\"shell.execute_reply.started\":\"2021-06-27T14:51:17.190334Z\",\"shell.execute_reply\":\"2021-06-27T14:53:59.332019Z\"}}\n",
    "tStart = time.time()\n",
    "import shutil\n",
    "shutil.rmtree('./out/0')\n",
    "os.mkdir('./out/0')\n",
    "shutil.rmtree('./out/1')\n",
    "os.mkdir('./out/1')\n",
    "shutil.rmtree('./out/2')\n",
    "os.mkdir('./out/2')\n",
    "for file in range(1, 5000):\n",
    "    #Read data\n",
    "    #training_set data filename\n",
    "    num = \"%06d\" % file\n",
    "    filename = \"p\"+num\n",
    "    ##training_setB data filename\n",
    "    #num=100000+i\n",
    "    #filename = \"p\"+str(num)\n",
    "    index=0\n",
    "    try:\n",
    "        dataframe = pd.read_csv(\"./training/\"+filename+\".psv\", skiprows=0, sep='|') \n",
    "        window_size=10\n",
    "        check_size=5\n",
    "        #Random cut method\n",
    "        index=0\n",
    "        for sample_time in range(random_times):\n",
    "            leng = len(dataframe)-window_size\n",
    "            up = random.randint(1, leng)\n",
    "            \n",
    "            #setup label \n",
    "            label = dataframe[\"SepsisLabel\"].iloc[up:up+window_size].to_numpy()   \n",
    "            a=rule(label,up+window_size,up+window_size+check_size,window_size,check_size)\n",
    "            if random.randint(0,20)<=10:\n",
    "                continue\n",
    "            classify=rule(label,sample_time+window_size,sample_time+window_size+check_size,window_size,check_size)\n",
    "            tmpLabel.append(classify)\n",
    "                    \n",
    "            #fill nan value and make dataframe(actually is numpy array)\n",
    "            data= np.empty((window_size))\n",
    "            rdata= np.empty((window_size))\n",
    "            gdata= np.empty((window_size))\n",
    "            bdata= np.empty((window_size))\n",
    "            for items in range(len(item)):\n",
    "                dataFromDF = dataframe[item[items]].drop(index=0).fillna(method='ffill').fillna(method='bfill')\n",
    "                dataFromDF = dataFromDF.iloc[up-1:up+window_size-1] #??????\n",
    "                dataFromDF = np.array((dataFromDF - bound[items][lower_bound])/(bound[items][upper_bound] - bound[items][lower_bound]))\n",
    "                R_dataFromDF = 255*np.exp(-((255*dataFromDF-r_mu)*(255*dataFromDF-r_mu))/(2*(r_sigma)*(r_sigma)))  \n",
    "                G_dataFromDF = 255*np.exp(-((255*dataFromDF-g_mu)*(255*dataFromDF-g_mu))/(2*(r_sigma)*(g_sigma)))  \n",
    "                B_dataFromDF = 255*np.exp(-((255*dataFromDF-b_mu)*(255*dataFromDF-b_mu))/(2*(r_sigma)*(b_sigma)))  \n",
    "                if items==0:\n",
    "                    data=dataFromDF\n",
    "                    rdata=R_dataFromDF\n",
    "                    gdata=G_dataFromDF\n",
    "                    bdata=B_dataFromDF\n",
    "                else:\n",
    "                    data=np.vstack([data,dataFromDF])\n",
    "                    rdata=np.vstack([rdata,R_dataFromDF])\n",
    "                    gdata=np.vstack([gdata,G_dataFromDF])\n",
    "                    bdata=np.vstack([bdata,B_dataFromDF])\n",
    "            \n",
    "            #Change to graph and enhance it, than save feature graph to training set\n",
    "            data *= 255  # 变换为0-255的灰度值\n",
    "            image = Image.fromarray(make_lupton_rgb(rdata.T, gdata.T, bdata.T, stretch=0.5)).resize((128,128))\n",
    "            image=ImageEnhance.Contrast(image).enhance(5.5)\n",
    "#             im = Image.fromarray(data.T).convert('L') # 这样才能转为灰度图，如果是彩色图则改L为‘RGB’\n",
    "#             im = ImageEnhance.Contrast(im).enhance(5.5).resize((128,128))#ImageEnhance.Contrast(im).enhance(0)\n",
    "            tmpData.append(np.array(image))\n",
    "#             print(\"1\",np.array(tmpData).shape)\n",
    "#             savepath=\"./out/\"+str(classify)+\"/\"+filename+str(index)+\".jpg\"\n",
    "#             image.save(savepath)\n",
    "#             index+=1\n",
    "\n",
    "        # from buttom to half data len \n",
    "        # because number of label 0 is about 90% of all data when random cut method  \n",
    "        for sample_time in range(0,len(dataframe)-window_size): #int(len(dataframe)/2)-window_size\n",
    "            if sample_time>0:\n",
    "                #setup label (1,2)\n",
    "                label = dataframe[\"SepsisLabel\"].iloc[sample_time:sample_time+window_size].to_numpy()   \n",
    "                check=dataframe[\"SepsisLabel\"].iloc[sample_time+window_size:sample_time+window_size+5].to_numpy()\n",
    "                if np.nanmean(check)>0  :\n",
    "                    classify=rule(label,sample_time+window_size,sample_time+window_size+check_size,window_size,check_size)\n",
    "                    tmpLabel.append(classify)\n",
    "                    #fill nan value and make dataframe(actually is numpy array)\n",
    "                    data= np.empty((window_size))\n",
    "                    rdata= np.empty((window_size))\n",
    "                    gdata= np.empty((window_size))\n",
    "                    bdata= np.empty((window_size))\n",
    "                    for items in range(len(item)):\n",
    "                        dataFromDF = dataframe[item[items]].drop(index=0).fillna(method='ffill').fillna(method='bfill')\n",
    "                        dataFromDF = dataFromDF.iloc[sample_time:sample_time+window_size]\n",
    "                        dataFromDF = np.array((dataFromDF - bound[items][lower_bound])/(bound[items][upper_bound] - bound[items][lower_bound]))\n",
    "                        R_dataFromDF = 255*np.exp(-((255*dataFromDF-r_mu)*(255*dataFromDF-r_mu))/(2*(r_sigma)*(r_sigma)))  \n",
    "                        G_dataFromDF = 255*np.exp(-((255*dataFromDF-g_mu)*(255*dataFromDF-g_mu))/(2*(r_sigma)*(g_sigma)))  \n",
    "                        B_dataFromDF = 255*np.exp(-((255*dataFromDF-b_mu)*(255*dataFromDF-b_mu))/(2*(r_sigma)*(b_sigma)))\n",
    "                        if items==0:\n",
    "                            data=dataFromDF\n",
    "                            rdata=R_dataFromDF\n",
    "                            gdata=G_dataFromDF\n",
    "                            bdata=B_dataFromDF\n",
    "                        else:\n",
    "                            data=np.vstack([data,dataFromDF])\n",
    "                            rdata=np.vstack([rdata,R_dataFromDF])\n",
    "                            gdata=np.vstack([gdata,G_dataFromDF])\n",
    "                            bdata=np.vstack([bdata,B_dataFromDF])\n",
    "                    #Change to graph and enhance it, than save feature graph to training set\n",
    "                   \n",
    "                     #Change to graph and enhance it, than save feature graph to training set\n",
    "                    data *= 255  # 变换为0-255的灰度值\n",
    "                    image = Image.fromarray(make_lupton_rgb(rdata.T, gdata.T, bdata.T, stretch=0.5)).resize((128,128))\n",
    "                    image=ImageEnhance.Contrast(image).enhance(5.5)\n",
    "#                     im = Image.fromarray(data.T).convert('L') # 这样才能转为灰度图，如果是彩色图则改L为‘RGB’\n",
    "#                     im = ImageEnhance.Contrast(im).enhance(5.5).resize((128,128))#ImageEnhance.Contrast(im).enhance(0)\n",
    "                    tmpData.append(np.array(image))\n",
    "#                     print(\"2\",np.array(tmpData).shape)\n",
    "#                     savepath=\"./out/\"+str(classify)+\"/\"+filename+str(index)+\".jpg\"\n",
    "#                     image.save(savepath)\n",
    "#                     index+=1\n",
    "\n",
    "    except:\n",
    "        continue\n",
    "    \n",
    "   \n",
    "tEnd = time.time()\n",
    "\n",
    "print(f\"\\nData processing complete in {tEnd - tStart} seconds.\\n\")"
   ]
  },
  {
   "cell_type": "code",
   "execution_count": 12,
   "id": "4a014bb0",
   "metadata": {
    "scrolled": true
   },
   "outputs": [
    {
     "name": "stdout",
     "output_type": "stream",
     "text": [
      "0\n"
     ]
    },
    {
     "data": {
      "image/png": "[encoded data removed]",
      "text/plain": [
       "<Figure size 432x288 with 1 Axes>"
      ]
     },
     "metadata": {
      "needs_background": "light"
     },
     "output_type": "display_data"
    }
   ],
   "source": [
    "for num in range(len(tmpLabel)):\n",
    "    if tmpLabel[num]==0:\n",
    "        plt.imshow(tmpData[num][:], cmap='gray')\n",
    "        print(tmpLabel[num])\n",
    "        break"
   ]
  },
  {
   "cell_type": "code",
   "execution_count": 13,
   "id": "824dfcc6",
   "metadata": {},
   "outputs": [
    {
     "name": "stdout",
     "output_type": "stream",
     "text": [
      "1\n"
     ]
    },
    {
     "data": {
      "image/png": "[encoded data removed]",
      "text/plain": [
       "<Figure size 432x288 with 1 Axes>"
      ]
     },
     "metadata": {
      "needs_background": "light"
     },
     "output_type": "display_data"
    }
   ],
   "source": [
    "# how feature graph look like\n",
    "for num in range(len(tmpLabel)):\n",
    "    if tmpLabel[num]==1:\n",
    "        plt.imshow(tmpData[num], cmap='gray')\n",
    "        print(tmpLabel[num])\n",
    "        break"
   ]
  },
  {
   "cell_type": "code",
   "execution_count": 14,
   "id": "b1ed1fa2",
   "metadata": {},
   "outputs": [
    {
     "name": "stdout",
     "output_type": "stream",
     "text": [
      "2\n"
     ]
    },
    {
     "data": {
      "image/png": "[encoded data removed]",
      "text/plain": [
       "<Figure size 432x288 with 1 Axes>"
      ]
     },
     "metadata": {
      "needs_background": "light"
     },
     "output_type": "display_data"
    }
   ],
   "source": [
    "# how feature graph look like\n",
    "for num in range(len(tmpLabel)):\n",
    "    if tmpLabel[num]==2:\n",
    "        plt.imshow(tmpData[num], cmap='gray')\n",
    "        print(tmpLabel[num])\n",
    "        break"
   ]
  },
  {
   "cell_type": "code",
   "execution_count": 15,
   "id": "38410e97",
   "metadata": {},
   "outputs": [
    {
     "name": "stdout",
     "output_type": "stream",
     "text": [
      "21725 -> 0.8156867162273785\n",
      "3187 -> 0.1196590823759105\n",
      "1722 -> 0.06465420139671096\n"
     ]
    }
   ],
   "source": [
    "#Number of each category\n",
    "numofclass0=0\n",
    "numofclass1=0\n",
    "numofclass2=0\n",
    "for num in range(len(tmpLabel)):\n",
    "    if tmpLabel[num]==0:\n",
    "        numofclass0+=1\n",
    "    elif tmpLabel[num]==1:\n",
    "        numofclass1+=1\n",
    "    elif tmpLabel[num]==2:\n",
    "        numofclass2+=1\n",
    "print(numofclass0,\"->\",numofclass0/len(tmpLabel))\n",
    "print(numofclass1,\"->\",numofclass1/len(tmpLabel))\n",
    "print(numofclass2,\"->\",numofclass2/len(tmpLabel))"
   ]
  },
  {
   "cell_type": "code",
   "execution_count": 16,
   "id": "515c0351",
   "metadata": {},
   "outputs": [
    {
     "name": "stdout",
     "output_type": "stream",
     "text": [
      "Shuffle complete.\n",
      "Transfer complete.\n",
      "Split data complete.\n",
      "Reshape data complete.\n",
      "\n",
      "Prepare training data complete in 4.780045747756958 seconds.\n",
      "\n"
     ]
    }
   ],
   "source": [
    "tStart = time.time()\n",
    "\n",
    "# shuffle, seed = 6\n",
    "random.Random(6).shuffle(tmpData)\n",
    "random.Random(6).shuffle(tmpLabel)\n",
    "\n",
    "print(\"Shuffle complete.\")\n",
    "\n",
    "tmpData = np.array(tmpData)\n",
    "tmpLabel = np.array(tmpLabel)\n",
    "\n",
    "print(\"Transfer complete.\")\n",
    "\n",
    "trainingData, validData, trainingLabel, validLabel = train_test_split(tmpData, tmpLabel,test_size=0.125)\n",
    "\n",
    "print(\"Split data complete.\")\n",
    "\n",
    "\n",
    "trainingData = trainingData.reshape(len(trainingData), 128,128, channel)\n",
    "trainingLabel = trainingLabel.reshape(len(trainingLabel), 1)\n",
    "# print(trainingData)\n",
    "validData = validData.reshape(len(validData), 128,128, channel)\n",
    "validLabel = validLabel.reshape(len(validLabel), 1)\n",
    "\n",
    "print(\"Reshape data complete.\")\n",
    "\n",
    "trainingLabelOneHot = np_utils.to_categorical(trainingLabel) # One-Hot encoding label\n",
    "validLabelOneHot = np_utils.to_categorical(validLabel)\n",
    "\n",
    "tEnd = time.time()\n",
    "\n",
    "print(f\"\\nPrepare training data complete in {tEnd - tStart} seconds.\\n\")"
   ]
  },
  {
   "cell_type": "code",
   "execution_count": 17,
   "id": "6ff4c648",
   "metadata": {},
   "outputs": [
    {
     "name": "stdout",
     "output_type": "stream",
     "text": [
      "Model: \"sequential\"\n",
      "_________________________________________________________________\n",
      "Layer (type)                 Output Shape              Param #   \n",
      "=================================================================\n",
      "conv2d (Conv2D)              (None, 120, 120, 36)      8784      \n",
      "_________________________________________________________________\n",
      "max_pooling2d (MaxPooling2D) (None, 60, 60, 36)        0         \n",
      "_________________________________________________________________\n",
      "conv2d_1 (Conv2D)            (None, 56, 56, 36)        32436     \n",
      "_________________________________________________________________\n",
      "max_pooling2d_1 (MaxPooling2 (None, 28, 28, 36)        0         \n",
      "_________________________________________________________________\n",
      "conv2d_2 (Conv2D)            (None, 26, 26, 36)        11700     \n",
      "_________________________________________________________________\n",
      "max_pooling2d_2 (MaxPooling2 (None, 13, 13, 36)        0         \n",
      "_________________________________________________________________\n",
      "dropout (Dropout)            (None, 13, 13, 36)        0         \n",
      "_________________________________________________________________\n",
      "flatten (Flatten)            (None, 6084)              0         \n",
      "_________________________________________________________________\n",
      "dense (Dense)                (None, 128)               778880    \n",
      "_________________________________________________________________\n",
      "dense_1 (Dense)              (None, 3)                 387       \n",
      "=================================================================\n",
      "Total params: 832,187\n",
      "Trainable params: 832,187\n",
      "Non-trainable params: 0\n",
      "_________________________________________________________________\n",
      "\n",
      "Build model complete in 0.8369491100311279 seconds.\n",
      "\n"
     ]
    }
   ],
   "source": [
    "from keras import backend as K\n",
    "K.image_data_format() == \"channels_first\"\n",
    "\n",
    "tStart = time.time()\n",
    "\n",
    "model = Sequential()\n",
    "\n",
    "model.add(Conv2D(filters=36, kernel_size=(9, 9), activation='relu', input_shape=(128,128, channel)))\n",
    "model.add(MaxPooling2D(pool_size=(2, 2)))\n",
    "\n",
    "model.add(Conv2D(filters=36, kernel_size=(5, 5), activation='relu'))\n",
    "model.add(MaxPooling2D(pool_size=(2, 2)))\n",
    "model.add(Conv2D(filters=36, kernel_size=(3, 3), activation='relu'))\n",
    "model.add(MaxPooling2D(pool_size=(2, 2)))\n",
    "model.add(Dropout(0.25))\n",
    "model.add(Flatten())\n",
    "model.add(Dense(units=128, activation = 'relu'))\n",
    "model.add(Dense(units=3, activation = 'softmax')) # 3 labels\n",
    "\n",
    "model.summary()\n",
    "\n",
    "# sgd = Adam(lr=0.0005)\n",
    "\n",
    "model.compile(loss = 'categorical_crossentropy', optimizer='Nadam', metrics=['accuracy'])\n",
    "\n",
    "tEnd = time.time()\n",
    "\n",
    "print(f\"\\nBuild model complete in {tEnd - tStart} seconds.\\n\")"
   ]
  },
  {
   "cell_type": "code",
   "execution_count": null,
   "id": "e87d7bfc",
   "metadata": {},
   "outputs": [
    {
     "name": "stderr",
     "output_type": "stream",
     "text": [
      "c:\\users\\user\\appdata\\local\\programs\\python\\python39\\lib\\site-packages\\keras\\engine\\training.py:1915: UserWarning: `Model.fit_generator` is deprecated and will be removed in a future version. Please use `Model.fit`, which supports generators.\n",
      "  warnings.warn('`Model.fit_generator` is deprecated and '\n"
     ]
    },
    {
     "name": "stdout",
     "output_type": "stream",
     "text": [
      "Epoch 1/50\n",
      "182/182 [==============================] - 91s 265ms/step - loss: 14.0456 - accuracy: 0.7431 - val_loss: 0.6029 - val_accuracy: 0.8077\n",
      "Epoch 2/50\n",
      "182/182 [==============================] - 41s 223ms/step - loss: 0.5689 - accuracy: 0.8182 - val_loss: 0.5806 - val_accuracy: 0.8089\n",
      "Epoch 3/50\n",
      "182/182 [==============================] - 41s 224ms/step - loss: 0.5648 - accuracy: 0.8202 - val_loss: 0.5791 - val_accuracy: 0.8095\n",
      "Epoch 4/50\n",
      "182/182 [==============================] - 40s 222ms/step - loss: 0.5658 - accuracy: 0.8148 - val_loss: 0.5791 - val_accuracy: 0.8125\n",
      "Epoch 5/50\n",
      "182/182 [==============================] - 42s 231ms/step - loss: 0.5380 - accuracy: 0.8237 - val_loss: 0.5790 - val_accuracy: 0.8125\n",
      "Epoch 6/50\n",
      "182/182 [==============================] - 42s 233ms/step - loss: 0.5495 - accuracy: 0.8240 - val_loss: 0.5571 - val_accuracy: 0.8122\n",
      "Epoch 7/50\n",
      "182/182 [==============================] - 42s 230ms/step - loss: 0.5132 - accuracy: 0.8288 - val_loss: 0.5521 - val_accuracy: 0.8155\n",
      "Epoch 8/50\n",
      "182/182 [==============================] - 42s 233ms/step - loss: 0.5134 - accuracy: 0.8254 - val_loss: 0.5460 - val_accuracy: 0.8161\n",
      "Epoch 9/50\n",
      "182/182 [==============================] - 41s 227ms/step - loss: 0.4961 - accuracy: 0.8283 - val_loss: 0.5453 - val_accuracy: 0.8182\n",
      "Epoch 10/50\n",
      "182/182 [==============================] - 43s 234ms/step - loss: 0.4763 - accuracy: 0.8353 - val_loss: 0.5607 - val_accuracy: 0.8128\n",
      "Epoch 11/50\n",
      "182/182 [==============================] - 42s 233ms/step - loss: 0.4581 - accuracy: 0.8381 - val_loss: 0.5826 - val_accuracy: 0.8131\n",
      "Epoch 12/50\n",
      "182/182 [==============================] - 42s 233ms/step - loss: 0.4356 - accuracy: 0.8477 - val_loss: 0.5644 - val_accuracy: 0.8149\n",
      "Epoch 13/50\n",
      "182/182 [==============================] - 43s 234ms/step - loss: 0.4011 - accuracy: 0.8577 - val_loss: 0.5452 - val_accuracy: 0.8197\n",
      "\n",
      "Epoch 00013: ReduceLROnPlateau reducing learning rate to 0.0007000000332482159.\n",
      "Epoch 14/50\n",
      "182/182 [==============================] - 42s 232ms/step - loss: 0.3528 - accuracy: 0.8724 - val_loss: 0.5421 - val_accuracy: 0.8194\n",
      "Epoch 15/50\n",
      "182/182 [==============================] - 42s 232ms/step - loss: 0.3350 - accuracy: 0.8792 - val_loss: 0.5568 - val_accuracy: 0.8242\n",
      "Epoch 16/50\n",
      "182/182 [==============================] - 42s 233ms/step - loss: 0.2939 - accuracy: 0.8901 - val_loss: 0.5665 - val_accuracy: 0.8221\n",
      "Epoch 17/50\n",
      "182/182 [==============================] - 42s 232ms/step - loss: 0.2901 - accuracy: 0.8937 - val_loss: 0.5905 - val_accuracy: 0.8212\n",
      "Epoch 18/50\n",
      "142/182 [======================>.......] - ETA: 9s - loss: 0.2571 - accuracy: 0.9070"
     ]
    }
   ],
   "source": [
    "# %% [code] {\"jupyter\":{\"outputs_hidden\":false},\"execution\":{\"iopub.status.busy\":\"2021-06-27T14:54:00.001214Z\",\"iopub.execute_input\":\"2021-06-27T14:54:00.001530Z\",\"iopub.status.idle\":\"2021-06-27T14:54:00.759721Z\",\"shell.execute_reply.started\":\"2021-06-27T14:54:00.001500Z\",\"shell.execute_reply\":\"2021-06-27T14:54:00.758520Z\"}}\n",
    "def validDataGenerator(data, label, batch_size):\n",
    "    \n",
    "    # 分批載入資料，每批數量為batch_size\n",
    "    \n",
    "    i = 0\n",
    "    \n",
    "    while (True):\n",
    "        \n",
    "        yield data[i*batch_size : (i+1)*batch_size], label[i*batch_size : (i+1)*batch_size]\n",
    "        \n",
    "        if(i < len(label)//batch_size):\n",
    "            i += 1\n",
    "        else:\n",
    "            i = 0\n",
    "\n",
    "trainingDataGenerator = ImageDataGenerator(\n",
    "#                             rotation_range=15,\n",
    "#                             height_shif t_range=0.1,\n",
    "#                             width_shift_range=0.05,\n",
    "#                             horizontal_flip=True,\n",
    "#                             vertical_flip=True,\n",
    "#                             zoom_range=0.1,\n",
    "                            data_format='channels_last'\n",
    ")\n",
    "\n",
    "trainingDataGenerator.fit(trainingData)\n",
    "\n",
    "# %% [code] {\"jupyter\":{\"outputs_hidden\":false},\"execution\":{\"iopub.status.busy\":\"2021-06-27T14:54:00.762312Z\",\"iopub.execute_input\":\"2021-06-27T14:54:00.762631Z\"}}\n",
    "tStart = time.time()\n",
    "\n",
    "batch_size = 128\n",
    "epochs = 50\n",
    "\n",
    "reduce_lr_from_loss = ReduceLROnPlateau(\n",
    "#     factor = 0.95,\n",
    "    factor = 0.7,\n",
    "    monitor = 'val_loss',\n",
    "    min_lr = 1e-6,\n",
    "    patience = 4,\n",
    "    verbose = 1,\n",
    ")\n",
    "\n",
    "reduce_lr_from_acc = ReduceLROnPlateau(\n",
    "#     factor = 0.98,\n",
    "    factor = 0.8,\n",
    "    monitor = 'val_accuracy',\n",
    "    min_lr = 1e-6,\n",
    "    patience = 4,\n",
    "    verbose = 1,\n",
    ")\n",
    "\n",
    "train_history = model.fit_generator(trainingDataGenerator.flow(trainingData, trainingLabelOneHot, batch_size),\n",
    "    steps_per_epoch=len(trainingLabelOneHot)//batch_size,\n",
    "    epochs=epochs,\n",
    "    validation_data=validDataGenerator(validData, validLabelOneHot, batch_size),\n",
    "    validation_steps=len(validLabelOneHot)//batch_size,\n",
    "    verbose=1,\n",
    "    callbacks=[reduce_lr_from_loss, reduce_lr_from_acc],\n",
    "#     initial_epoch=75\n",
    ")\n",
    "\n",
    "tEnd = time.time()\n",
    "\n",
    "print(f\"\\nTrain model complete in {tEnd - tStart} seconds.\\n\")"
   ]
  },
  {
   "cell_type": "code",
   "execution_count": null,
   "id": "81b98198",
   "metadata": {},
   "outputs": [],
   "source": [
    "# %% [code] {\"jupyter\":{\"outputs_hidden\":false}}\n",
    "plt.figure(figsize=(30, 6))\n",
    "\n",
    "plt.subplot(1, 2, 1)\n",
    "plt.plot(train_history.history['accuracy'], label=\"accuracy\")\n",
    "plt.plot(train_history.history['val_accuracy'], 'orange', label=\"val_accuracy\")\n",
    "plt.xlabel('Epoch')\n",
    "plt.ylabel('accuracy')\n",
    "plt.legend(loc='lower right')\n",
    "\n",
    "# plt.subplot(1, 3, 2)\n",
    "# plt.plot(train_history.history['loss'], label=\"loss\")\n",
    "# plt.plot( plt.xlabel('Epoch')\n",
    "# plt.ylabel('loss')\n",
    "# plt.legend(loc='lower right')\n",
    "\n",
    "plt.subplot(1, 2, 2)\n",
    "plt.plot(train_history.history['lr'], 'orange')\n",
    "plt.xlabel('Epoch')\n",
    "plt.ylabel('learning_rate')\n",
    "\n",
    "# plt.savefig(\"DefectDetecting-2.png\")\n",
    "plt.show()\n",
    "\n",
    "# %% [code] {\"jupyter\":{\"outputs_hidden\":false}}\n",
    "model.save('/kaggle/working/spesis-class3-v1.h5')\n",
    "print(\"save done\")\n",
    "\n",
    "# %% [code] {\"jupyter\":{\"outputs_hidden\":false}}\n",
    "import pandas as pd\n",
    "\n",
    "prediction = model.predict_classes(validData)\n",
    "\n",
    "pd.crosstab(validLabel.reshape(len(validLabel)), prediction, rownames=['label'], colnames=['predict'])"
   ]
  },
  {
   "cell_type": "code",
   "execution_count": null,
   "id": "bd9c0155",
   "metadata": {},
   "outputs": [],
   "source": []
  },
  {
   "cell_type": "code",
   "execution_count": null,
   "id": "f3fdfa29",
   "metadata": {},
   "outputs": [],
   "source": [
    "  "
   ]
  },
  {
   "cell_type": "code",
   "execution_count": null,
   "id": "317537da",
   "metadata": {},
   "outputs": [],
   "source": []
  }
 ],
 "metadata": {
  "kernelspec": {
   "display_name": "Python 3 (ipykernel)",
   "language": "python",
   "name": "python3"
  },
  "language_info": {
   "codemirror_mode": {
    "name": "ipython",
    "version": 3
   },
   "file_extension": ".py",
   "mimetype": "text/x-python",
   "name": "python",
   "nbconvert_exporter": "python",
   "pygments_lexer": "ipython3",
   "version": "3.9.6"
  }
 },
 "nbformat": 4,
 "nbformat_minor": 5
}
